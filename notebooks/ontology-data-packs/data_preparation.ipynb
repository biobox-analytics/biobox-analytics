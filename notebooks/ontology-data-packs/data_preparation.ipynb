{
 "cells": [
  {
   "cell_type": "markdown",
   "source": [
    "# Data Preparation\n",
    "***\n",
    "**Author**: [Chris Li](mailto:chris@biobox.io)\n",
    "<br>\n",
    "\n",
    "**Purpose**: This notebook serves as a script to download files and prepare data assets for loading into the BioBox knowledge graph. For more information about the data sources, please see [Data Sources](https://docs.biobox.io/biobox/data_sources)"
   ],
   "metadata": {
    "collapsed": false
   }
  },
  {
   "cell_type": "markdown",
   "source": [
    "## Environment\n",
    "***"
   ],
   "metadata": {
    "collapsed": false
   }
  },
  {
   "cell_type": "code",
   "execution_count": 1,
   "outputs": [],
   "source": [
    "# Uncomment the following lines to install required modules\n",
    "# import sys\n",
    "# !{sys.executable} -m pip install -r requirements.txt"
   ],
   "metadata": {
    "collapsed": false,
    "ExecuteTime": {
     "start_time": "2024-05-09T20:52:58.566628Z",
     "end_time": "2024-05-09T20:52:58.569751Z"
    }
   }
  },
  {
   "cell_type": "code",
   "execution_count": 1,
   "outputs": [],
   "source": [
    "import pandas as pd\n",
    "import numpy as np\n",
    "import os\n",
    "import json\n",
    "import gzip\n",
    "import sys\n",
    "from tqdm import tqdm\n",
    "import requests\n",
    "from biobox_analytics.utils import ensure_primitive_or_array_of_primitives\n",
    "import pronto\n",
    "import rdflib"
   ],
   "metadata": {
    "collapsed": false,
    "ExecuteTime": {
     "start_time": "2024-05-14T22:30:25.135418Z",
     "end_time": "2024-05-14T22:30:25.714057Z"
    }
   }
  },
  {
   "cell_type": "code",
   "execution_count": 2,
   "outputs": [],
   "source": [
    "# Set up environment configurations\n",
    "processed_data_directory = \"../resources/processed_data\"\n",
    "tmp_directory = \"../resources/tmp_data\"\n",
    "ontologies_directory = \"../resources/ontologies\"\n",
    "os.makedirs(ontologies_directory, exist_ok=True)\n",
    "os.makedirs(processed_data_directory, exist_ok=True)\n",
    "os.makedirs(tmp_directory, exist_ok=True)"
   ],
   "metadata": {
    "collapsed": false,
    "ExecuteTime": {
     "start_time": "2024-05-14T22:30:25.715312Z",
     "end_time": "2024-05-14T22:30:25.718554Z"
    }
   }
  },
  {
   "cell_type": "markdown",
   "source": [
    "***\n",
    "# Clinical Trials\n",
    "\n",
    "**Purpose**: The purpose of this section is to scape NIH clinical trial information into knowledge graph nodes."
   ],
   "metadata": {
    "collapsed": false
   }
  },
  {
   "cell_type": "code",
   "execution_count": 3,
   "outputs": [],
   "source": [
    "\n",
    "clinical_trial_data = []\n",
    "\n",
    "page_size = 500\n",
    "url = 'https://clinicaltrials.gov/api/v2'\n",
    "\n",
    "has_more = True\n",
    "next_page_token = None\n",
    "\n",
    "all_intervention_terms = set()\n",
    "all_condition_terms = set()\n",
    "\n",
    "def get_mesh_descriptor_id(term):\n",
    "    res = requests.get(\n",
    "        url='https://id.nlm.nih.gov/mesh/lookup/descriptor',\n",
    "        params={\n",
    "            'label': term,\n",
    "            'match': 'exact',\n",
    "            'year':'current',\n",
    "            'limit': 1\n",
    "        }\n",
    "    )\n",
    "    res.raise_for_status()\n",
    "    data = res.json()\n",
    "    if len(data) == 0:\n",
    "        return None\n",
    "    else:\n",
    "        return data[0]['resource']\n",
    "\n",
    "def format_clinical_trial(o):\n",
    "    id_module = o['protocolSection'].get('identificationModule', {})\n",
    "    status = o['protocolSection'].get('statusModule', {})\n",
    "    description_module = o['protocolSection'].get('descriptionModule', {})\n",
    "    design_module = o['protocolSection'].get('designModule', {})\n",
    "    derived_section = o.get('derivedSection', {})\n",
    "    intervention_module = o['protocolSection'].get('armsInterventionsModule', {})\n",
    "    outcomes_module = o['protocolSection'].get('outcomesModule', {})\n",
    "\n",
    "    condition_terms = []\n",
    "    condition_mesh_ids = []\n",
    "\n",
    "    if 'conditionBrowseModule' in derived_section:\n",
    "        for c in derived_section['conditionBrowseModule'].get('meshes', []):\n",
    "            term = c.get('term', None)\n",
    "            condition_mesh_ids.append(c.get('id', None))\n",
    "            if term is not None:\n",
    "                condition_terms.append(term)\n",
    "            #\n",
    "            #     descriptor_id = get_mesh_descriptor_id(term)\n",
    "            #     if descriptor_id is not None:\n",
    "            #         condition_mesh_ids.append(descriptor_id)\n",
    "\n",
    "\n",
    "\n",
    "    intervention_terms = []\n",
    "    intervention_term_ids = []\n",
    "\n",
    "    if 'interventionBrowseModule' in derived_section:\n",
    "        for c in derived_section['interventionBrowseModule'].get('meshes', []):\n",
    "            intervention_term = c.get('term', None)\n",
    "            intervention_term_ids.append(c.get('id'))\n",
    "            if intervention_term is not None:\n",
    "                intervention_terms.append(c.get('term', None))\n",
    "                # descriptor_id = get_mesh_descriptor_id(intervention_term)\n",
    "                # if descriptor_id is not None:\n",
    "                #     intervention_term_ids.append(descriptor_id)\n",
    "\n",
    "    temp_properties = {\n",
    "        'uuid': id_module.get('nctId', None),\n",
    "        'NCT_ID': id_module.get('nctId', None),\n",
    "        'displayName': id_module.get('nctId', None),\n",
    "        'brief_title': id_module.get('briefTitle', None),\n",
    "        'official_title': id_module.get('officialTitle', None),\n",
    "        'overall_status': status.get('overallStatus', None),\n",
    "        'termination_reason': status.get('whyStopped', None),\n",
    "        'last_known_status': status.get('lastKnownStatus', None),\n",
    "        'description': description_module.get('briefSummary', None),\n",
    "        'study_type': design_module.get('studyType', None),\n",
    "        'phase': design_module.get('phases', None),\n",
    "        'study_arms': intervention_module.get('armGroup', None),\n",
    "        'allocation': design_module.get('allocation', None),\n",
    "        'intervention_model': design_module.get('interventionModel', None),\n",
    "        'masking': design_module.get('masking', None),\n",
    "        'primary_purpose': design_module.get('primaryPurpose', None),\n",
    "        'intervention_type': intervention_module.get('interventionType', None),\n",
    "        'intervention_name': intervention_module.get('interventionName', None),\n",
    "        'primary_outcome_measures': outcomes_module.get('primaryOutcomeMeasure', None),\n",
    "        'secondary_outcome_measures': outcomes_module.get('secondaryOutcomeMeasure', None),\n",
    "        'condition_terms': condition_terms if condition_terms else None,\n",
    "        'condition_mesh_ids': condition_mesh_ids if condition_mesh_ids else None,\n",
    "        'intervention_terms': intervention_terms if intervention_terms else None,\n",
    "        'intervention_term_ids': intervention_term_ids if intervention_term_ids else None,\n",
    "        'doc_json': json.dumps(o)\n",
    "    }\n",
    "\n",
    "    # Ensure all values are primitives or arrays of primitives\n",
    "    def ensure_primitive_or_array_of_primitives(value):\n",
    "        if isinstance(value, (str, int, float, bool)) or value is None:\n",
    "            return value\n",
    "        elif isinstance(value, list):\n",
    "            return [ensure_primitive_or_array_of_primitives(v) for v in value]\n",
    "        else:\n",
    "            return json.dumps(value)\n",
    "\n",
    "    properties = {k: ensure_primitive_or_array_of_primitives(v) for k, v in temp_properties.items() if v is not None}\n",
    "\n",
    "    all_intervention_terms.update([term for term in intervention_terms if term is not None])\n",
    "    all_condition_terms.update([term for term in condition_terms if term is not None])\n",
    "\n",
    "    return properties\n"
   ],
   "metadata": {
    "collapsed": false,
    "ExecuteTime": {
     "start_time": "2024-05-13T16:59:50.393852Z",
     "end_time": "2024-05-13T16:59:50.396425Z"
    }
   }
  },
  {
   "cell_type": "code",
   "execution_count": null,
   "outputs": [],
   "source": [
    "while has_more:\n",
    "    params = {'pageSize': page_size}\n",
    "    if next_page_token:\n",
    "        params['pageToken'] = next_page_token\n",
    "    res = requests.get(url=url + '/studies', params=params)\n",
    "    res.raise_for_status()\n",
    "    data = res.json()\n",
    "    next_page_token = data.get('nextPageToken', None)\n",
    "    studies = data.get('studies', [])\n",
    "    for s in studies:\n",
    "        formatted = format_clinical_trial(s)\n",
    "        if formatted is not None:\n",
    "            clinical_trial_data.append(formatted)\n",
    "    print(len(clinical_trial_data))\n",
    "    if not next_page_token:\n",
    "        has_more = False\n"
   ],
   "metadata": {
    "collapsed": false,
    "ExecuteTime": {
     "start_time": "2024-05-13T16:59:53.352625Z",
     "end_time": "2024-05-13T17:08:15.483695Z"
    }
   }
  },
  {
   "cell_type": "code",
   "execution_count": 5,
   "outputs": [
    {
     "data": {
      "text/plain": "4348"
     },
     "execution_count": 5,
     "metadata": {},
     "output_type": "execute_result"
    }
   ],
   "source": [
    "len(all_condition_terms)"
   ],
   "metadata": {
    "collapsed": false,
    "ExecuteTime": {
     "start_time": "2024-05-13T17:08:48.189551Z",
     "end_time": "2024-05-13T17:08:48.227149Z"
    }
   }
  },
  {
   "cell_type": "code",
   "execution_count": 6,
   "outputs": [
    {
     "data": {
      "text/plain": "3810"
     },
     "execution_count": 6,
     "metadata": {},
     "output_type": "execute_result"
    }
   ],
   "source": [
    "len(all_intervention_terms)"
   ],
   "metadata": {
    "collapsed": false,
    "ExecuteTime": {
     "start_time": "2024-05-13T17:08:52.264491Z",
     "end_time": "2024-05-13T17:08:52.295101Z"
    }
   }
  },
  {
   "cell_type": "code",
   "execution_count": 8,
   "outputs": [
    {
     "name": "stderr",
     "output_type": "stream",
     "text": [
      "100%|██████████| 4348/4348 [08:47<00:00,  8.25it/s]\n",
      "100%|██████████| 3810/3810 [07:56<00:00,  8.00it/s]\n"
     ]
    }
   ],
   "source": [
    "all_condition_map = {}\n",
    "for c in tqdm(all_condition_terms):\n",
    "    id = get_mesh_descriptor_id(c)\n",
    "    if id is not None:\n",
    "        all_condition_map[c] = id\n",
    "all_intervention_map = {}\n",
    "for c in tqdm(all_intervention_terms):\n",
    "    id = get_mesh_descriptor_id(c)\n",
    "    if id is not None:\n",
    "        all_intervention_map[c] = id"
   ],
   "metadata": {
    "collapsed": false,
    "ExecuteTime": {
     "start_time": "2024-05-13T17:10:39.558058Z",
     "end_time": "2024-05-13T17:27:22.670818Z"
    }
   }
  },
  {
   "cell_type": "markdown",
   "source": [
    "## Start re-organizing"
   ],
   "metadata": {
    "collapsed": false
   }
  },
  {
   "cell_type": "code",
   "execution_count": 13,
   "outputs": [],
   "source": [
    "with open(os.path.join(tmp_directory, 'all_condition_map.json'), 'w') as outfile:\n",
    "    json.dump(all_condition_map, outfile)"
   ],
   "metadata": {
    "collapsed": false,
    "ExecuteTime": {
     "start_time": "2024-05-13T17:31:25.320530Z",
     "end_time": "2024-05-13T17:31:25.329320Z"
    }
   }
  },
  {
   "cell_type": "code",
   "execution_count": 14,
   "outputs": [],
   "source": [
    "with open(os.path.join(tmp_directory, 'all_intervention_map.json'), 'w') as outfile:\n",
    "    json.dump(all_intervention_map, outfile)"
   ],
   "metadata": {
    "collapsed": false,
    "ExecuteTime": {
     "start_time": "2024-05-13T17:31:50.993676Z",
     "end_time": "2024-05-13T17:31:51.023647Z"
    }
   }
  },
  {
   "cell_type": "code",
   "execution_count": 15,
   "outputs": [],
   "source": [
    "# scratch\n",
    "\n",
    "clinical_trial_df = pd.DataFrame(clinical_trial_data)"
   ],
   "metadata": {
    "collapsed": false,
    "ExecuteTime": {
     "start_time": "2024-05-13T17:37:27.313224Z",
     "end_time": "2024-05-13T17:37:29.858981Z"
    }
   }
  },
  {
   "cell_type": "code",
   "execution_count": 18,
   "outputs": [],
   "source": [
    "clinical_trial_df.replace({np.nan: None}, inplace=True)"
   ],
   "metadata": {
    "collapsed": false,
    "ExecuteTime": {
     "start_time": "2024-05-13T17:39:08.080059Z",
     "end_time": "2024-05-13T17:39:08.138610Z"
    }
   }
  },
  {
   "cell_type": "code",
   "execution_count": 19,
   "outputs": [
    {
     "data": {
      "text/plain": "          uuid       NCT_ID  displayName  \\\n0  NCT05013879  NCT05013879  NCT05013879   \n1  NCT00517179  NCT00517179  NCT00517179   \n2  NCT00812279  NCT00812279  NCT00812279   \n3  NCT03878979  NCT03878979  NCT03878979   \n4  NCT04175379  NCT04175379  NCT04175379   \n\n                                         brief_title  \\\n0  Kinesiotape for Edema After Bilateral Total Kn...   \n1  Effect of Vardenafil on Blood Pressure in Pati...   \n2  Investigate the Exposure to Selected Smoke Con...   \n3  Preoperative Immune Checkpoint Inhibitor for P...   \n4  The Effect of Permissive Hypercapnia on Oxygen...   \n\n                                      official_title overall_status  \\\n0  Effect of Kinesiotaping on Edema Management, P...      COMPLETED   \n1  Effect of Vardenafil on Blood Pressure in Pati...      COMPLETED   \n2  A Controlled, Randomised, Open-label, 3-arm Pa...      COMPLETED   \n3  Preoperative Immune Checkpoint Inhibitor Thera...      COMPLETED   \n4  The Effect of Permissive Hypercapnia on Oxygen...        UNKNOWN   \n\n                                         description      study_type  \\\n0  The purpose of this study is to determine if k...  INTERVENTIONAL   \n1  The purpose of this study is to investigate th...  INTERVENTIONAL   \n2  The overall purpose of this clinical study con...  INTERVENTIONAL   \n3  Nivolumab (also known as BMS-936558) before su...  INTERVENTIONAL   \n4  Permissive hypercapnia increased the survival ...  INTERVENTIONAL   \n\n      phase                                    condition_terms  \\\n0      [NA]                                            [Edema]   \n1      [NA]  [Erectile Dysfunction, Prostatic Hyperplasia, ...   \n2      [NA]                                               None   \n3  [PHASE2]  [Carcinoma, Carcinoma, Squamous Cell, Head and...   \n4      [NA]                                      [Hypercapnia]   \n\n                                 condition_mesh_ids  \\\n0                                      [D000004487]   \n1              [D000007172, D000011470, D000006965]   \n2                                              None   \n3  [D000002277, D000002294, D000006258, D000077195]   \n4                                      [D000006935]   \n\n                                            doc_json  \\\n0  {\"protocolSection\": {\"identificationModule\": {...   \n1  {\"protocolSection\": {\"identificationModule\": {...   \n2  {\"protocolSection\": {\"identificationModule\": {...   \n3  {\"protocolSection\": {\"identificationModule\": {...   \n4  {\"protocolSection\": {\"identificationModule\": {...   \n\n             intervention_terms intervention_term_ids  \\\n0                          None                  None   \n1  [Vardenafil Dihydrochloride]          [D000069058]   \n2                          None                  None   \n3                   [Nivolumab]          [D000077594]   \n4                          None                  None   \n\n         last_known_status termination_reason  \n0                     None               None  \n1                     None               None  \n2                     None               None  \n3                     None               None  \n4  ENROLLING_BY_INVITATION               None  ",
      "text/html": "<div>\n<style scoped>\n    .dataframe tbody tr th:only-of-type {\n        vertical-align: middle;\n    }\n\n    .dataframe tbody tr th {\n        vertical-align: top;\n    }\n\n    .dataframe thead th {\n        text-align: right;\n    }\n</style>\n<table border=\"1\" class=\"dataframe\">\n  <thead>\n    <tr style=\"text-align: right;\">\n      <th></th>\n      <th>uuid</th>\n      <th>NCT_ID</th>\n      <th>displayName</th>\n      <th>brief_title</th>\n      <th>official_title</th>\n      <th>overall_status</th>\n      <th>description</th>\n      <th>study_type</th>\n      <th>phase</th>\n      <th>condition_terms</th>\n      <th>condition_mesh_ids</th>\n      <th>doc_json</th>\n      <th>intervention_terms</th>\n      <th>intervention_term_ids</th>\n      <th>last_known_status</th>\n      <th>termination_reason</th>\n    </tr>\n  </thead>\n  <tbody>\n    <tr>\n      <th>0</th>\n      <td>NCT05013879</td>\n      <td>NCT05013879</td>\n      <td>NCT05013879</td>\n      <td>Kinesiotape for Edema After Bilateral Total Kn...</td>\n      <td>Effect of Kinesiotaping on Edema Management, P...</td>\n      <td>COMPLETED</td>\n      <td>The purpose of this study is to determine if k...</td>\n      <td>INTERVENTIONAL</td>\n      <td>[NA]</td>\n      <td>[Edema]</td>\n      <td>[D000004487]</td>\n      <td>{\"protocolSection\": {\"identificationModule\": {...</td>\n      <td>None</td>\n      <td>None</td>\n      <td>None</td>\n      <td>None</td>\n    </tr>\n    <tr>\n      <th>1</th>\n      <td>NCT00517179</td>\n      <td>NCT00517179</td>\n      <td>NCT00517179</td>\n      <td>Effect of Vardenafil on Blood Pressure in Pati...</td>\n      <td>Effect of Vardenafil on Blood Pressure in Pati...</td>\n      <td>COMPLETED</td>\n      <td>The purpose of this study is to investigate th...</td>\n      <td>INTERVENTIONAL</td>\n      <td>[NA]</td>\n      <td>[Erectile Dysfunction, Prostatic Hyperplasia, ...</td>\n      <td>[D000007172, D000011470, D000006965]</td>\n      <td>{\"protocolSection\": {\"identificationModule\": {...</td>\n      <td>[Vardenafil Dihydrochloride]</td>\n      <td>[D000069058]</td>\n      <td>None</td>\n      <td>None</td>\n    </tr>\n    <tr>\n      <th>2</th>\n      <td>NCT00812279</td>\n      <td>NCT00812279</td>\n      <td>NCT00812279</td>\n      <td>Investigate the Exposure to Selected Smoke Con...</td>\n      <td>A Controlled, Randomised, Open-label, 3-arm Pa...</td>\n      <td>COMPLETED</td>\n      <td>The overall purpose of this clinical study con...</td>\n      <td>INTERVENTIONAL</td>\n      <td>[NA]</td>\n      <td>None</td>\n      <td>None</td>\n      <td>{\"protocolSection\": {\"identificationModule\": {...</td>\n      <td>None</td>\n      <td>None</td>\n      <td>None</td>\n      <td>None</td>\n    </tr>\n    <tr>\n      <th>3</th>\n      <td>NCT03878979</td>\n      <td>NCT03878979</td>\n      <td>NCT03878979</td>\n      <td>Preoperative Immune Checkpoint Inhibitor for P...</td>\n      <td>Preoperative Immune Checkpoint Inhibitor Thera...</td>\n      <td>COMPLETED</td>\n      <td>Nivolumab (also known as BMS-936558) before su...</td>\n      <td>INTERVENTIONAL</td>\n      <td>[PHASE2]</td>\n      <td>[Carcinoma, Carcinoma, Squamous Cell, Head and...</td>\n      <td>[D000002277, D000002294, D000006258, D000077195]</td>\n      <td>{\"protocolSection\": {\"identificationModule\": {...</td>\n      <td>[Nivolumab]</td>\n      <td>[D000077594]</td>\n      <td>None</td>\n      <td>None</td>\n    </tr>\n    <tr>\n      <th>4</th>\n      <td>NCT04175379</td>\n      <td>NCT04175379</td>\n      <td>NCT04175379</td>\n      <td>The Effect of Permissive Hypercapnia on Oxygen...</td>\n      <td>The Effect of Permissive Hypercapnia on Oxygen...</td>\n      <td>UNKNOWN</td>\n      <td>Permissive hypercapnia increased the survival ...</td>\n      <td>INTERVENTIONAL</td>\n      <td>[NA]</td>\n      <td>[Hypercapnia]</td>\n      <td>[D000006935]</td>\n      <td>{\"protocolSection\": {\"identificationModule\": {...</td>\n      <td>None</td>\n      <td>None</td>\n      <td>ENROLLING_BY_INVITATION</td>\n      <td>None</td>\n    </tr>\n  </tbody>\n</table>\n</div>"
     },
     "execution_count": 19,
     "metadata": {},
     "output_type": "execute_result"
    }
   ],
   "source": [
    "clinical_trial_df.head()"
   ],
   "metadata": {
    "collapsed": false,
    "ExecuteTime": {
     "start_time": "2024-05-13T17:39:10.217033Z",
     "end_time": "2024-05-13T17:39:10.240510Z"
    }
   }
  },
  {
   "cell_type": "code",
   "execution_count": 23,
   "outputs": [
    {
     "data": {
      "text/plain": "study_type\nINTERVENTIONAL     379423\nOBSERVATIONAL      113337\nEXPANDED_ACCESS       938\nName: count, dtype: int64"
     },
     "execution_count": 23,
     "metadata": {},
     "output_type": "execute_result"
    }
   ],
   "source": [
    "clinical_trial_df['study_type'].value_counts()"
   ],
   "metadata": {
    "collapsed": false,
    "ExecuteTime": {
     "start_time": "2024-05-13T17:41:11.594057Z",
     "end_time": "2024-05-13T17:41:11.599441Z"
    }
   }
  },
  {
   "cell_type": "code",
   "execution_count": 197,
   "outputs": [
    {
     "name": "stderr",
     "output_type": "stream",
     "text": [
      "100%|██████████| 494578/494578 [06:23<00:00, 1290.53it/s]\n"
     ]
    }
   ],
   "source": [
    "if not os.path.exists(os.path.join(processed_data_directory, 'CLINICAL_TRIAL_NODES.jsonl.gz')):\n",
    "    with gzip.open(os.path.join(processed_data_directory, 'CLINICAL_TRIAL_NODES.jsonl.gz'), 'wt', encoding='utf-8') as outfile:\n",
    "        for node in tqdm(clinical_trial_data):\n",
    "            if 'study_type' not in node:\n",
    "                continue\n",
    "            if node['study_type'] != 'INTERVENTIONAL':\n",
    "                continue\n",
    "            tmp_properties = {k: ensure_primitive_or_array_of_primitives(v) for k, v in node.items() if v is not None}\n",
    "            if 'intervention_terms' in tmp_properties:\n",
    "\n",
    "                _remapped_ids = []\n",
    "                _uris = []\n",
    "                for x in tmp_properties['intervention_terms']:\n",
    "                    uri = all_intervention_map.get(x, None)\n",
    "                    if uri is None:\n",
    "                        continue\n",
    "                    else:\n",
    "                        _remapped_id = uri.replace('http://id.nlm.nih.gov/mesh/', '')\n",
    "                        _remapped_ids.append(_remapped_id)\n",
    "                        _uris.append(uri)\n",
    "                tmp_properties['intervention_uri_list'] = _uris\n",
    "\n",
    "\n",
    "            if 'condition_terms' in tmp_properties:\n",
    "                _remapped_ids = []\n",
    "                _uris = []\n",
    "                for x in tmp_properties['condition_terms']:\n",
    "                    uri = all_condition_map.get(x, None)\n",
    "                    if uri is None:\n",
    "                        continue\n",
    "                    else:\n",
    "                        _remapped_id = uri.replace('http://id.nlm.nih.gov/mesh/', '')\n",
    "                        _remapped_ids.append(_remapped_id)\n",
    "                        _uris.append(uri)\n",
    "                tmp_properties['condition_uri_list'] = _uris\n",
    "\n",
    "\n",
    "            line = {\n",
    "                '_id': node.get('uuid'),\n",
    "                'labels': ['ClinicalTrial'],\n",
    "                'properties': tmp_properties\n",
    "            }\n",
    "            outfile.write(json.dumps(line) + '\\n')"
   ],
   "metadata": {
    "collapsed": false,
    "ExecuteTime": {
     "start_time": "2024-05-14T22:04:07.379285Z",
     "end_time": "2024-05-14T22:10:30.624043Z"
    }
   }
  },
  {
   "cell_type": "markdown",
   "source": [
    "Since MESH terms are not directly supported in BioBox ontologies, we need load in the Experimental Factor Ontology and look for equivalences to convert between them."
   ],
   "metadata": {
    "collapsed": false
   }
  },
  {
   "cell_type": "code",
   "execution_count": 3,
   "outputs": [],
   "source": [
    "efo = rdflib.Graph().parse(\"../resources/ontologies/efo.owl\")"
   ],
   "metadata": {
    "collapsed": false,
    "ExecuteTime": {
     "start_time": "2024-05-14T22:30:38.107006Z",
     "end_time": "2024-05-14T22:32:41.450413Z"
    }
   }
  },
  {
   "cell_type": "markdown",
   "source": [
    "There are 3 possible properties that can match to the MESH value of interest, but they require small modifications as each mapping varies in its final representation."
   ],
   "metadata": {
    "collapsed": false
   }
  },
  {
   "cell_type": "code",
   "execution_count": 4,
   "outputs": [],
   "source": [
    "def xref_property_mapping(mesh_uri):\n",
    "    # Expects MESH URI to be of the form: http://id.nlm.nih.gov/mesh/D004487\n",
    "    mesh_id = mesh_uri.replace(\"http://id.nlm.nih.gov/mesh/\", \"\")\n",
    "    hasDbXref_value_alternate= f\"MSH:{mesh_id}\"\n",
    "    hasDbXref_value = f\"MESH:{mesh_id}\"\n",
    "    exactMatch_value = mesh_uri.replace(\"http://id.nlm.nih.gov/mesh/\", \"http://identifiers.org/mesh/\")\n",
    "\n",
    "    property_sets = [\n",
    "        ('oboInOwl:hasDbXref', hasDbXref_value),\n",
    "        ('skos:exactMatch', exactMatch_value),\n",
    "        ('mondo:exactMatch', exactMatch_value),\n",
    "        ('oboInOwl:hasDbXref', hasDbXref_value_alternate)\n",
    "    ]\n",
    "\n",
    "    all_hits = []\n",
    "\n",
    "    for s in property_sets:\n",
    "\n",
    "        xsd_query = f\"\"\"\n",
    "            PREFIX owl: <http://www.w3.org/2002/07/owl#>\n",
    "            PREFIX oboInOwl: <http://www.geneontology.org/formats/oboInOwl#>\n",
    "            PREFIX skos: <http://www.w3.org/2004/02/skos/core#>\n",
    "            PREFIX mondo: <http://purl.obolibrary.org/obo/mondo#>\n",
    "            PREFIX xsd: <http://www.w3.org/2001/XMLSchema#>\n",
    "\n",
    "            SELECT DISTINCT ?class\n",
    "            WHERE {{\n",
    "              ?class a owl:Class ;\n",
    "                    {s[0]} \"{s[1]}\"^^xsd:string .\n",
    "            }}\n",
    "            \"\"\"\n",
    "        xsd_results = efo.query(xsd_query)\n",
    "        if len(xsd_results):\n",
    "            all_hits.extend([str(result['class']) for result in xsd_results])\n",
    "\n",
    "\n",
    "            efo_hits = [ x for x in all_hits if x.startswith('http://www.ebi.ac.uk/efo/')]\n",
    "            if len(efo_hits):\n",
    "                return efo_hits\n",
    "\n",
    "        query = f\"\"\"\n",
    "            PREFIX owl: <http://www.w3.org/2002/07/owl#>\n",
    "            PREFIX oboInOwl: <http://www.geneontology.org/formats/oboInOwl#>\n",
    "            PREFIX skos: <http://www.w3.org/2004/02/skos/core#>\n",
    "            PREFIX mondo: <http://purl.obolibrary.org/obo/mondo#>\n",
    "            PREFIX xsd: <http://www.w3.org/2001/XMLSchema#>\n",
    "\n",
    "            SELECT DISTINCT ?class\n",
    "            WHERE {{\n",
    "              ?class a owl:Class ;\n",
    "                    {s[0]} \"{s[1]}\" .\n",
    "            }}\n",
    "            \"\"\"\n",
    "\n",
    "        results = efo.query(query)\n",
    "        if len(results):\n",
    "            all_hits.extend([str(result['class']) for result in results])\n",
    "\n",
    "            efo_hits = [ x for x in all_hits if x.startswith('http://www.ebi.ac.uk/efo/')]\n",
    "            if len(efo_hits):\n",
    "                return efo_hits\n",
    "    return all_hits\n",
    "\n",
    "\n",
    "\n",
    "def transform_uri_to_curie(uri):\n",
    "    obo_short = uri.split('/').pop()\n",
    "    if obo_short is not None:\n",
    "        return obo_short.replace('_', ':')\n",
    "\n",
    "def check_efo_internal_xref(xref_value):\n",
    "    curie = transform_uri_to_curie(xref_value)\n",
    "    # SPARQL query to find classes with a specific dbXref within the EFO namespace\n",
    "    query = f\"\"\"\n",
    "    PREFIX owl: <http://www.w3.org/2002/07/owl#>\n",
    "    PREFIX oboInOwl: <http://www.geneontology.org/formats/oboInOwl#>\n",
    "    PREFIX efo: <http://www.ebi.ac.uk/efo/>\n",
    "\n",
    "    SELECT DISTINCT ?class\n",
    "    WHERE {{\n",
    "        ?class a owl:Class ;\n",
    "               oboInOwl:hasDbXref \"{curie}\" .\n",
    "        FILTER(STRSTARTS(STR(?class), STR(efo:)))\n",
    "    }}\n",
    "    \"\"\"\n",
    "    results = efo.query(query)\n",
    "    return [str(result['class']) for result in results]\n",
    "\n",
    "def get_xref_efo(mesh_uri):\n",
    "    first_match_list = xref_property_mapping(mesh_uri)\n",
    "    efo_ns = rdflib.Namespace(\"http://www.ebi.ac.uk/efo/\")\n",
    "    if len(first_match_list) == 0:\n",
    "\n",
    "        raise Exception(f\"Cannot find a match for {mesh_uri}\")\n",
    "    first_match = first_match_list[0]\n",
    "\n",
    "    if first_match.startswith(efo_ns):\n",
    "        return transform_uri_to_curie(first_match)\n",
    "    if first_match.startswith('http://purl.obolibrary.org/obo/MONDO'):\n",
    "        return transform_uri_to_curie(first_match)\n",
    "    else:\n",
    "        internal_match = check_efo_internal_xref(first_match)\n",
    "\n",
    "        if len(internal_match) == 0:\n",
    "\n",
    "            raise Exception(\"A mapping was found, but not to any EFO term\")\n",
    "        else:\n",
    "            return transform_uri_to_curie(internal_match[0])\n"
   ],
   "metadata": {
    "collapsed": false,
    "ExecuteTime": {
     "start_time": "2024-05-14T22:32:41.450664Z",
     "end_time": "2024-05-14T22:32:41.460203Z"
    }
   }
  },
  {
   "cell_type": "code",
   "execution_count": 5,
   "outputs": [
    {
     "data": {
      "text/plain": "'EFO:0004234'"
     },
     "execution_count": 5,
     "metadata": {},
     "output_type": "execute_result"
    }
   ],
   "source": [
    "get_xref_efo('http://id.nlm.nih.gov/mesh/D007172')"
   ],
   "metadata": {
    "collapsed": false,
    "ExecuteTime": {
     "start_time": "2024-05-14T22:32:41.460396Z",
     "end_time": "2024-05-14T22:32:41.568133Z"
    }
   }
  },
  {
   "cell_type": "code",
   "execution_count": 6,
   "outputs": [],
   "source": [
    "class Edge:\n",
    "    def __init__(self, label, src=None, trg=None, properties=None):\n",
    "        self.label = label\n",
    "        self.src = src\n",
    "        self.trg = trg\n",
    "        self.properties = properties if properties else {}\n",
    "\n",
    "    def serialize(self, format=\"data-pack\"):\n",
    "        if not self._can_serialize():\n",
    "            raise Exception(\"Cannot serialize\")\n",
    "        if format == 'data-pack':\n",
    "            return self._serialize_as_data_pack()\n",
    "\n",
    "\n",
    "    def _can_serialize(self):\n",
    "        if self.src is None:\n",
    "            return False\n",
    "        if self.trg is None:\n",
    "            return False\n",
    "        return True\n",
    "\n",
    "\n",
    "    def _serialize_as_data_pack(self):\n",
    "        obj = {\n",
    "            'from': {\n",
    "                'uuid': self.src.get('uuid')\n",
    "            },\n",
    "            'to': {\n",
    "                'uuid': self.trg.get('uuid')\n",
    "            },\n",
    "            'label': self.label,\n",
    "            'properties': self.properties\n",
    "        }\n",
    "        return obj"
   ],
   "metadata": {
    "collapsed": false,
    "ExecuteTime": {
     "start_time": "2024-05-14T22:32:41.570035Z",
     "end_time": "2024-05-14T22:32:41.573019Z"
    }
   }
  },
  {
   "cell_type": "code",
   "execution_count": null,
   "outputs": [
    {
     "name": "stderr",
     "output_type": "stream",
     "text": [
      "23294it [22:43,  8.04it/s]"
     ]
    }
   ],
   "source": [
    "clinical_trial_edges = []\n",
    "with gzip.open(os.path.join(processed_data_directory, 'CLINICAL_TRIAL_NODES.jsonl.gz'), 'rt') as file:\n",
    "    for line in tqdm(file):\n",
    "        obj = json.loads(line)\n",
    "        properties = obj.get('properties')\n",
    "        if 'condition_uri_list' in properties:\n",
    "            condition_efo_xrefs = []\n",
    "            for x in properties['condition_uri_list']:\n",
    "               try:\n",
    "                   condition_efo_xrefs.append(get_xref_efo(x))\n",
    "               except:\n",
    "                   continue\n",
    "            for c_xref in condition_efo_xrefs:\n",
    "                trg_uuid = transform_uri_to_curie(c_xref)\n",
    "                clinical_trial_edges.append(\n",
    "                    Edge(\n",
    "                        label='study of condition',\n",
    "                        src={'uuid': obj.get('_id')},\n",
    "                        trg={'uuid': trg_uuid}\n",
    "                    )\n",
    "                )\n",
    "        if 'intervention_uri_list' in properties:\n",
    "            intervention_efo_xrefs = []\n",
    "            for x in properties['intervention_uri_list']:\n",
    "                try:\n",
    "                    intervention_efo_xrefs.append(get_xref_efo(x))\n",
    "                except:\n",
    "                    continue\n",
    "            for i_xref in intervention_efo_xrefs:\n",
    "                trg_uuid = transform_uri_to_curie(i_xref)\n",
    "                clinical_trial_edges.append(\n",
    "                    Edge(\n",
    "                        label='using intervention',\n",
    "                        src={'uuid': obj.get('_id')},\n",
    "                        trg={'uuid': trg_uuid}\n",
    "                    )\n",
    "                )\n",
    "\n"
   ],
   "metadata": {
    "collapsed": false,
    "pycharm": {
     "is_executing": true
    }
   }
  },
  {
   "cell_type": "code",
   "execution_count": 205,
   "outputs": [
    {
     "ename": "Exception",
     "evalue": "Cannot serialize",
     "output_type": "error",
     "traceback": [
      "\u001B[0;31m---------------------------------------------------------------------------\u001B[0m",
      "\u001B[0;31mException\u001B[0m                                 Traceback (most recent call last)",
      "Cell \u001B[0;32mIn[205], line 1\u001B[0m\n\u001B[0;32m----> 1\u001B[0m \u001B[43mclinical_trial_edges\u001B[49m\u001B[43m[\u001B[49m\u001B[38;5;241;43m0\u001B[39;49m\u001B[43m]\u001B[49m\u001B[38;5;241;43m.\u001B[39;49m\u001B[43mserialize\u001B[49m\u001B[43m(\u001B[49m\u001B[43m)\u001B[49m\n",
      "Cell \u001B[0;32mIn[202], line 10\u001B[0m, in \u001B[0;36mEdge.serialize\u001B[0;34m(self, format)\u001B[0m\n\u001B[1;32m      8\u001B[0m \u001B[38;5;28;01mdef\u001B[39;00m \u001B[38;5;21mserialize\u001B[39m(\u001B[38;5;28mself\u001B[39m, \u001B[38;5;28mformat\u001B[39m\u001B[38;5;241m=\u001B[39m\u001B[38;5;124m\"\u001B[39m\u001B[38;5;124mdata-pack\u001B[39m\u001B[38;5;124m\"\u001B[39m):\n\u001B[1;32m      9\u001B[0m     \u001B[38;5;28;01mif\u001B[39;00m \u001B[38;5;129;01mnot\u001B[39;00m \u001B[38;5;28mself\u001B[39m\u001B[38;5;241m.\u001B[39m_can_serialize():\n\u001B[0;32m---> 10\u001B[0m         \u001B[38;5;28;01mraise\u001B[39;00m \u001B[38;5;167;01mException\u001B[39;00m(\u001B[38;5;124m\"\u001B[39m\u001B[38;5;124mCannot serialize\u001B[39m\u001B[38;5;124m\"\u001B[39m)\n\u001B[1;32m     11\u001B[0m     \u001B[38;5;28;01mif\u001B[39;00m \u001B[38;5;28mformat\u001B[39m \u001B[38;5;241m==\u001B[39m \u001B[38;5;124m'\u001B[39m\u001B[38;5;124mdata-pack\u001B[39m\u001B[38;5;124m'\u001B[39m:\n\u001B[1;32m     12\u001B[0m         \u001B[38;5;28;01mreturn\u001B[39;00m \u001B[38;5;28mself\u001B[39m\u001B[38;5;241m.\u001B[39m_serialize_as_data_pack()\n",
      "\u001B[0;31mException\u001B[0m: Cannot serialize"
     ]
    }
   ],
   "source": [
    "clinical_trial_edges[0].serialize()"
   ],
   "metadata": {
    "collapsed": false,
    "ExecuteTime": {
     "start_time": "2024-05-14T22:13:39.725736Z",
     "end_time": "2024-05-14T22:13:39.728834Z"
    }
   }
  },
  {
   "cell_type": "code",
   "execution_count": 151,
   "outputs": [],
   "source": [
    "# Define a SPARQL query to fetch details about the class using f-string for clarity\n",
    "\n",
    "def lookup_uri(uri):\n",
    "\n",
    "    query = f\"\"\"\n",
    "    SELECT ?property ?value\n",
    "    WHERE {{\n",
    "        <{uri}> ?property ?value .\n",
    "    }}\n",
    "    \"\"\"\n",
    "\n",
    "    # Execute the query\n",
    "    results = efo.query(query)\n",
    "\n",
    "    output = {}\n",
    "    for row in results:\n",
    "        if str(row.property) in output:\n",
    "            output[str(row.property)].append(str(row.value))\n",
    "        else:\n",
    "            output[str(row.property)] = [str(row.value)]\n",
    "    return output"
   ],
   "metadata": {
    "collapsed": false,
    "ExecuteTime": {
     "start_time": "2024-05-14T21:06:46.440454Z",
     "end_time": "2024-05-14T21:06:46.450113Z"
    }
   }
  },
  {
   "cell_type": "code",
   "execution_count": 152,
   "outputs": [
    {
     "data": {
      "text/plain": "{'http://www.w3.org/1999/02/22-rdf-syntax-ns#type': ['http://www.w3.org/2002/07/owl#Class'],\n 'http://www.w3.org/2002/07/owl#equivalentClass': ['N69b60bced67946a08831271c1e4b3a7d'],\n 'http://www.w3.org/2000/01/rdf-schema#subClassOf': ['http://purl.obolibrary.org/obo/MONDO_0002036',\n  'http://purl.obolibrary.org/obo/MONDO_0002134',\n  'N39f28cbad3dc4512be170d51d428b8e2',\n  'Nc0203f603f5a4031a875aa5f8c03d935'],\n 'http://purl.obolibrary.org/obo/IAO_0000115': ['Persistent or recurrent inability to achieve or to maintain an erection during sexual activity.',\n  'The inability in the male to have a PENILE ERECTION due to psychological or organ dysfunction.'],\n 'http://purl.obolibrary.org/obo/IAO_0000117': ['Dani Welter'],\n 'http://purl.obolibrary.org/obo/IAO_0000589': ['erectile dysfunction (disease)'],\n 'http://purl.obolibrary.org/obo/mondo#exactMatch': ['http://identifiers.org/mesh/D007172',\n  'http://identifiers.org/snomedct/397803000',\n  'http://purl.obolibrary.org/obo/DOID_1875',\n  'http://purl.obolibrary.org/obo/NCIT_C34801'],\n 'http://www.ebi.ac.uk/efo/gwas_trait': ['true'],\n 'http://www.geneontology.org/formats/oboInOwl#hasDbXref': ['DOID:1875',\n  'HP:0000802',\n  'MESH:D007172',\n  'MONDO:0005362',\n  'MeSH:D007172',\n  'MedDRA:10061461',\n  'NCIT:C34801',\n  'NCIt:C3133',\n  'SCTID:397803000',\n  'SNOMEDCT:397803000'],\n 'http://www.geneontology.org/formats/oboInOwl#hasExactSynonym': ['erectile dysfunction',\n  'erectile dysfunction (disease)',\n  'impotence',\n  'male erectile Disorder',\n  'male impotence',\n  'male sexual impotence',\n  'sexual impotence',\n  'sexual impotence (finding)'],\n 'http://www.geneontology.org/formats/oboInOwl#hasRelatedSynonym': ['dysfunction, erectile',\n  'impotence',\n  'impotence, male',\n  'impotence, male sexual',\n  'male impotence',\n  'male sexual impotence',\n  'sexual impotence, Male'],\n 'http://www.geneontology.org/formats/oboInOwl#id': ['EFO:0004234'],\n 'http://www.w3.org/2000/01/rdf-schema#label': ['erectile dysfunction']}"
     },
     "execution_count": 152,
     "metadata": {},
     "output_type": "execute_result"
    }
   ],
   "source": [
    "lookup_uri('http://www.ebi.ac.uk/efo/EFO_0004234')"
   ],
   "metadata": {
    "collapsed": false,
    "ExecuteTime": {
     "start_time": "2024-05-14T21:06:48.938533Z",
     "end_time": "2024-05-14T21:06:48.941541Z"
    }
   }
  },
  {
   "cell_type": "code",
   "execution_count": 188,
   "outputs": [],
   "source": [
    "def search_by_property_value(property, value):\n",
    "    query = f\"\"\"\n",
    "        PREFIX owl: <http://www.w3.org/2002/07/owl#>\n",
    "        PREFIX oboInOwl: <http://www.geneontology.org/formats/oboInOwl#>\n",
    "        PREFIX xsd: <http://www.w3.org/2001/XMLSchema#>\n",
    "\n",
    "        SELECT DISTINCT ?class\n",
    "        WHERE {{\n",
    "            ?class a owl:Class ;\n",
    "               <{property}> \"{value}\"\n",
    "        }}\n",
    "        \"\"\"\n",
    "\n",
    "    results = efo.query(query)\n",
    "    return [str(r['class']) for r in results]\n"
   ],
   "metadata": {
    "collapsed": false,
    "ExecuteTime": {
     "start_time": "2024-05-14T21:47:14.224302Z",
     "end_time": "2024-05-14T21:47:14.237382Z"
    }
   }
  },
  {
   "cell_type": "code",
   "execution_count": 189,
   "outputs": [
    {
     "data": {
      "text/plain": "['http://purl.obolibrary.org/obo/HP_0000969']"
     },
     "execution_count": 189,
     "metadata": {},
     "output_type": "execute_result"
    }
   ],
   "source": [
    "search_by_property_value('http://www.geneontology.org/formats/oboInOwl#hasDbXref', 'MSH:D004487')"
   ],
   "metadata": {
    "collapsed": false,
    "ExecuteTime": {
     "start_time": "2024-05-14T21:47:14.584808Z",
     "end_time": "2024-05-14T21:47:14.593254Z"
    }
   }
  },
  {
   "cell_type": "code",
   "execution_count": null,
   "outputs": [],
   "source": [],
   "metadata": {
    "collapsed": false
   }
  }
 ],
 "metadata": {
  "kernelspec": {
   "display_name": "Python 3",
   "language": "python",
   "name": "python3"
  },
  "language_info": {
   "codemirror_mode": {
    "name": "ipython",
    "version": 2
   },
   "file_extension": ".py",
   "mimetype": "text/x-python",
   "name": "python",
   "nbconvert_exporter": "python",
   "pygments_lexer": "ipython2",
   "version": "2.7.6"
  }
 },
 "nbformat": 4,
 "nbformat_minor": 0
}
