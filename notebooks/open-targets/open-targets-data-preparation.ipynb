{
 "cells": [
  {
   "cell_type": "markdown",
   "id": "8f7cd644-f092-4879-88bd-43223a0042d2",
   "metadata": {},
   "source": [
    "# Open Targets - Data Preparation"
   ]
  },
  {
   "cell_type": "markdown",
   "id": "a609422b-2e4f-40e6-a047-ffecf55dd9fb",
   "metadata": {},
   "source": [
    "# Environment Setup"
   ]
  },
  {
   "cell_type": "code",
   "execution_count": 6,
   "id": "9681577b-6d68-4e16-881d-42a61fb651c0",
   "metadata": {},
   "outputs": [],
   "source": [
    "import os\n",
    "import json\n",
    "import requests\n",
    "import gzip\n",
    "import pandas as pd\n",
    "import numpy as np\n",
    "from tqdm import tqdm\n",
    "from biobox_analytics.utils import read_jsonl_files"
   ]
  },
  {
   "cell_type": "code",
   "execution_count": 35,
   "id": "3a4d5b49-8259-4b22-9f1e-331a55d52f90",
   "metadata": {},
   "outputs": [],
   "source": [
    "tmp_data = '../resources/tmp_data'\n",
    "processed_data = '../resources/processed_data'"
   ]
  },
  {
   "cell_type": "code",
   "execution_count": 3,
   "id": "1610e1a1-1a94-470c-b8b4-1c9f3619f221",
   "metadata": {},
   "outputs": [
    {
     "name": "stderr",
     "output_type": "stream",
     "text": [
      "Loading .jsonl files: 100%|███████████████████████████████████████████████████████████████████████████████████████████████████████████████████████████████████████████████████████████████████████████████████████████████| 200/200 [00:13<00:00, 14.36it/s]\n"
     ]
    }
   ],
   "source": [
    "otg = read_jsonl_files(os.path.join(tmp_data, 'open_targets/v24.03/evidence/sourceId=ot_genetics_portal'))"
   ]
  },
  {
   "cell_type": "code",
   "execution_count": 8,
   "id": "8fc08cd7-19f3-4cd1-ac56-780bcbc8788f",
   "metadata": {},
   "outputs": [],
   "source": [
    "otg_df = pd.DataFrame(otg)"
   ]
  },
  {
   "cell_type": "code",
   "execution_count": 10,
   "id": "39f8a8a9-c583-489f-9d6d-9bb278929d14",
   "metadata": {},
   "outputs": [
    {
     "data": {
      "text/plain": [
       "Index(['datasourceId', 'targetId', 'beta', 'betaConfidenceIntervalLower',\n",
       "       'betaConfidenceIntervalUpper', 'datatypeId', 'diseaseFromSource',\n",
       "       'diseaseFromSourceMappedId', 'literature', 'pValueExponent',\n",
       "       'pValueMantissa', 'projectId', 'publicationFirstAuthor',\n",
       "       'publicationYear', 'resourceScore', 'studyId', 'studySampleSize',\n",
       "       'targetFromSourceId', 'variantFunctionalConsequenceFromQtlId',\n",
       "       'variantFunctionalConsequenceId', 'variantId', 'variantRsId',\n",
       "       'diseaseId', 'id', 'score', 'variantEffect', 'directionOnTrait',\n",
       "       'oddsRatio', 'oddsRatioConfidenceIntervalLower',\n",
       "       'oddsRatioConfidenceIntervalUpper'],\n",
       "      dtype='object')"
      ]
     },
     "execution_count": 10,
     "metadata": {},
     "output_type": "execute_result"
    }
   ],
   "source": [
    "otg_df.columns"
   ]
  },
  {
   "cell_type": "code",
   "execution_count": 11,
   "id": "94133a3b-3a00-4031-88aa-2efb4ca0b6cd",
   "metadata": {},
   "outputs": [
    {
     "data": {
      "text/plain": [
       "array(['GoF', 'LoF', nan], dtype=object)"
      ]
     },
     "execution_count": 11,
     "metadata": {},
     "output_type": "execute_result"
    }
   ],
   "source": [
    "otg_df['variantEffect'].unique()"
   ]
  },
  {
   "cell_type": "code",
   "execution_count": 12,
   "id": "29d1c1a4-5ba5-4961-b9c6-64015a50dbb7",
   "metadata": {},
   "outputs": [
    {
     "data": {
      "text/plain": [
       "array(['protect', 'risk', nan], dtype=object)"
      ]
     },
     "execution_count": 12,
     "metadata": {},
     "output_type": "execute_result"
    }
   ],
   "source": [
    "otg_df['directionOnTrait'].unique()"
   ]
  },
  {
   "cell_type": "code",
   "execution_count": 13,
   "id": "7e90fcbf-7bba-4630-9518-7eba765320c3",
   "metadata": {},
   "outputs": [
    {
     "data": {
      "text/plain": [
       "array(['SO_0002315', 'SO_0002316', nan, 'SO_0002314'], dtype=object)"
      ]
     },
     "execution_count": 13,
     "metadata": {},
     "output_type": "execute_result"
    }
   ],
   "source": [
    "otg_df['variantFunctionalConsequenceFromQtlId'].unique()"
   ]
  },
  {
   "cell_type": "code",
   "execution_count": 14,
   "id": "9901175e-eabd-4e36-97e5-b62be2e0112b",
   "metadata": {},
   "outputs": [
    {
     "data": {
      "text/plain": [
       "array(['SO_0001628', 'SO_0001627', 'SO_0001631', 'SO_0001583',\n",
       "       'SO_0001819', 'SO_0001632', 'SO_0001624', 'SO_0001623',\n",
       "       'SO_0001822', 'SO_0001630', 'SO_0001589', 'SO_0001821',\n",
       "       'SO_0001587', 'SO_0001575', 'SO_0001792', 'SO_0001574',\n",
       "       'SO_0002012', 'SO_0001580', 'SO_0001818'], dtype=object)"
      ]
     },
     "execution_count": 14,
     "metadata": {},
     "output_type": "execute_result"
    }
   ],
   "source": [
    "otg_df['variantFunctionalConsequenceId'].unique()"
   ]
  },
  {
   "cell_type": "code",
   "execution_count": 19,
   "id": "c76023ac-8d5a-4e72-92c6-0a2c39792860",
   "metadata": {},
   "outputs": [],
   "source": [
    "so_term_map = dict(zip(['SO_0001628', 'SO_0001627', 'SO_0001631', 'SO_0001583',\n",
    "       'SO_0001819', 'SO_0001632', 'SO_0001624', 'SO_0001623',\n",
    "       'SO_0001822', 'SO_0001630', 'SO_0001589', 'SO_0001821',\n",
    "       'SO_0001587', 'SO_0001575', 'SO_0001792', 'SO_0001574',\n",
    "       'SO_0002012', 'SO_0001580', 'SO_0001818','SO_0002315', 'SO_0002316', 'SO_0002314'],[\"intergenic_variant\", \"intron_variant\", \"upstream_gene_variant\", \"missense_variant\", \"synonymous_variant\", \"downstream_gene_variant\", \"3_prime_UTR_variant\", \"5_prime_UTR_variant\", \"inframe_deletion\", \"splice_region_variant\", \"frameshift_variant\", \"inframe_insertion\", \"stop_gained\", \"splice_donor_variant\", \"non_coding_transcript_exon_variant\", \"splice_acceptor_variant\", \"start_lost\", \"coding_sequence_variant\", \"protein_altering_variant\",\"increased_gene_product_level\", \"decreased_gene_product_level\", \"altered_gene_product_level\"]))"
   ]
  },
  {
   "cell_type": "code",
   "execution_count": 20,
   "id": "357e1b8e-d5c1-465a-bb45-d6240cbff7a8",
   "metadata": {},
   "outputs": [
    {
     "data": {
      "text/plain": [
       "{'SO_0001628': 'intergenic_variant',\n",
       " 'SO_0001627': 'intron_variant',\n",
       " 'SO_0001631': 'upstream_gene_variant',\n",
       " 'SO_0001583': 'missense_variant',\n",
       " 'SO_0001819': 'synonymous_variant',\n",
       " 'SO_0001632': 'downstream_gene_variant',\n",
       " 'SO_0001624': '3_prime_UTR_variant',\n",
       " 'SO_0001623': '5_prime_UTR_variant',\n",
       " 'SO_0001822': 'inframe_deletion',\n",
       " 'SO_0001630': 'splice_region_variant',\n",
       " 'SO_0001589': 'frameshift_variant',\n",
       " 'SO_0001821': 'inframe_insertion',\n",
       " 'SO_0001587': 'stop_gained',\n",
       " 'SO_0001575': 'splice_donor_variant',\n",
       " 'SO_0001792': 'non_coding_transcript_exon_variant',\n",
       " 'SO_0001574': 'splice_acceptor_variant',\n",
       " 'SO_0002012': 'start_lost',\n",
       " 'SO_0001580': 'coding_sequence_variant',\n",
       " 'SO_0001818': 'protein_altering_variant',\n",
       " 'SO_0002315': 'increased_gene_product_level',\n",
       " 'SO_0002316': 'decreased_gene_product_level',\n",
       " 'SO_0002314': 'altered_gene_product_level'}"
      ]
     },
     "execution_count": 20,
     "metadata": {},
     "output_type": "execute_result"
    }
   ],
   "source": [
    "so_term_map"
   ]
  },
  {
   "cell_type": "code",
   "execution_count": 26,
   "id": "f693cc7c-d6d7-47cc-90ba-bd6ce5a8516f",
   "metadata": {},
   "outputs": [
    {
     "data": {
      "text/plain": [
       "array(['protect', 'risk', nan], dtype=object)"
      ]
     },
     "execution_count": 26,
     "metadata": {},
     "output_type": "execute_result"
    }
   ],
   "source": [
    "otg_df['directionOnTrait'].unique()"
   ]
  },
  {
   "cell_type": "code",
   "execution_count": 27,
   "id": "51782934-aab2-4c6c-99e2-29b6d8070ed5",
   "metadata": {},
   "outputs": [
    {
     "data": {
      "text/plain": [
       "{'datasourceId': 'ot_genetics_portal',\n",
       " 'targetId': 'ENSG00000002919',\n",
       " 'beta': -0.0122706,\n",
       " 'betaConfidenceIntervalLower': -0.0160973236,\n",
       " 'betaConfidenceIntervalUpper': -0.0084438764,\n",
       " 'datatypeId': 'genetic_association',\n",
       " 'diseaseFromSource': 'Sex hormone-binding globulin levels adjusted for BMI',\n",
       " 'diseaseFromSourceMappedId': 'EFO_0004696',\n",
       " 'literature': ['32042192'],\n",
       " 'pValueExponent': -10,\n",
       " 'pValueMantissa': 4.2,\n",
       " 'projectId': 'GCST',\n",
       " 'publicationFirstAuthor': 'Ruth KS',\n",
       " 'publicationYear': 2020,\n",
       " 'resourceScore': 0.19180332124233246,\n",
       " 'studyId': 'GCST90012106',\n",
       " 'studySampleSize': 188908,\n",
       " 'targetFromSourceId': 'ENSG00000002919',\n",
       " 'variantFunctionalConsequenceFromQtlId': 'SO_0002315',\n",
       " 'variantFunctionalConsequenceId': 'SO_0001628',\n",
       " 'variantId': '17_47962177_G_T',\n",
       " 'variantRsId': 'rs2525105',\n",
       " 'diseaseId': 'EFO_0004696',\n",
       " 'id': '6f6156109c5d406a5c622370350733614be17b59',\n",
       " 'score': 0.19180332124233246,\n",
       " 'variantEffect': 'GoF',\n",
       " 'directionOnTrait': 'protect'}"
      ]
     },
     "execution_count": 27,
     "metadata": {},
     "output_type": "execute_result"
    }
   ],
   "source": [
    "otg[0]"
   ]
  },
  {
   "cell_type": "code",
   "execution_count": 41,
   "id": "43ebac3a-5e62-45f5-b269-2f6a6234a683",
   "metadata": {},
   "outputs": [],
   "source": [
    "node_map = {}\n",
    "edges = []"
   ]
  },
  {
   "cell_type": "code",
   "execution_count": 42,
   "id": "20ca1501-5a3f-43d3-a8e5-528b0bbe43af",
   "metadata": {},
   "outputs": [],
   "source": [
    "# Ensure all values are primitives or arrays of primitives\n",
    "def ensure_primitive_or_array_of_primitives(value):\n",
    "    if isinstance(value, (str, int, float, bool)) or value is None:\n",
    "        return value\n",
    "    elif isinstance(value, list):\n",
    "        return [ensure_primitive_or_array_of_primitives(v) for v in value]\n",
    "    else:\n",
    "        return json.dumps(value)\n",
    "\n",
    "    # properties = {k: ensure_primitive_or_array_of_primitives(v) for k, v in temp_properties.items() if v is not None}"
   ]
  },
  {
   "cell_type": "code",
   "execution_count": 43,
   "id": "a5dd948a-bd96-4265-b560-5a51f74470c5",
   "metadata": {},
   "outputs": [
    {
     "name": "stderr",
     "output_type": "stream",
     "text": [
      "100%|████████████████████████████████████████████████████████████████████████████████████████████████████████████████████████████████████████████████████████████████████████████████████████████████████████████| 781437/781437 [00:23<00:00, 33030.47it/s]\n"
     ]
    }
   ],
   "source": [
    "for i in tqdm(otg):\n",
    "    disease_id = i.get('diseaseId').replace('_', ':')\n",
    "    gene_id = i.get('targetId')\n",
    "    variant_id = i.get('variantId')\n",
    "    references = ['PMID:' + x for x in i.get('literature', [])]\n",
    "\n",
    "    va2g_label = 'has association'\n",
    "\n",
    "    functional_consequence = so_term_map.get(i.get('variantFunctionalConsequenceId', None), None)\n",
    "    functional_consequence_qtl = so_term_map.get(i.get('variantFunctionalConsequenceFromQtlId', None), None)\n",
    "\n",
    "    if functional_consequence_qtl is not None:\n",
    "        va2g_label = functional_consequence_qtl.replace('_', ' ') + ' of'\n",
    "\n",
    "    direction_on_trait = i.get('directionOnTrait')\n",
    "    va2d_label = 'of trait'\n",
    "\n",
    "    if direction_on_trait == 'protect':\n",
    "        va2d_label = 'protective against'\n",
    "    elif direction_on_trait == 'risk':\n",
    "        va2d_label = 'risk of trait'\n",
    "    \n",
    "\n",
    "    va2d = {\n",
    "        'from': {\n",
    "            'uuid': i.get('id')\n",
    "        },\n",
    "        'to': {\n",
    "            'uuid': disease_id\n",
    "        },\n",
    "        'label': va2d_label,\n",
    "        'properties': {}\n",
    "    }\n",
    "\n",
    "    va2g = {\n",
    "        'from': {\n",
    "            'uuid': i.get('id')\n",
    "        },\n",
    "        'to': {\n",
    "            'uuid': gene_id\n",
    "        },\n",
    "        'label': va2g_label,\n",
    "        'properties': {}\n",
    "    }\n",
    "\n",
    "    va2v_label= 'when variant is'\n",
    "\n",
    "    va2v = {\n",
    "        'from': {\n",
    "            'uuid': i.get('id')\n",
    "        },\n",
    "        'to': {\n",
    "            'uuid': variant_id\n",
    "        },\n",
    "        'label': va2v_label,\n",
    "        'properties': {}\n",
    "    }\n",
    "\n",
    "    displayName = f\"{i.get('variantId')} {va2g_label} and is {va2d_label}\"\n",
    "\n",
    "    va_properties = {\n",
    "        'uuid': i.get('id'),\n",
    "        'displayName': displayName,\n",
    "        'score': i.get('score', None),\n",
    "        'variantFunctionalConsequenceId': i.get('variantFunctionalConsequenceId', None),\n",
    "        'variantFunctionalConsequenceFromQtlId': i.get('variantFunctionalConsequenceFromQtlId', None),\n",
    "        'beta': i.get('beta', None),\n",
    "        'betaConfidenceIntervalLower': i.get('betaConfidenceIntervalLower', None),\n",
    "        'betaConfidenceIntervalUpper': i.get('betaConfidenceIntervalUpper', None),\n",
    "        'pValueMantissa': i.get('pValueMantissa', None),\n",
    "        'pValueExponent': i.get('pValueExponent', None),\n",
    "        'oddsRatio': i.get('oddsRatio', None),\n",
    "        'oddsRatioConfidenceIntervalLower': i.get('oddsRatioConfidenceIntervalLower', None),\n",
    "        'oddsRatioConfidenceIntervalUpper': i.get('oddsRatioConfidenceIntervalUpper', None),\n",
    "        'direction_on_trait': direction_on_trait,\n",
    "        'functional_consequence': functional_consequence,\n",
    "        'functional_consequence_qtl': functional_consequence_qtl,\n",
    "        'variantFunctionalConsequenceId': i.get('variantFunctionalConsequenceId', None),\n",
    "        'variantFunctionalConsequenceQtlId': i.get('variantFunctionalConsequenceQtlId', None),\n",
    "        'variantEffect': i.get('variantEffect', None),\n",
    "         'projectId': i.get('projectId', None),\n",
    "         'publicationFirstAuthor': i.get('publicationFirstAuthor', None),\n",
    "         'publicationYear': i.get('publicationYear', None),\n",
    "    }\n",
    "    \n",
    "    va = {\n",
    "        '_id': i.get('id'),\n",
    "        'labels': ['Association', 'VariantAssociation'],\n",
    "        'properties': {k: ensure_primitive_or_array_of_primitives(v) for k, v in va_properties.items() if v is not None}\n",
    "    }\n",
    "\n",
    "    v = {\n",
    "        '_id': i.get('variantId'),\n",
    "        'labels': ['Variant'],\n",
    "        'properties': {\n",
    "            'uuid': i.get('variantId'),\n",
    "            'displayName': i.get('variantId'),\n",
    "            'rsID': i.get('variantRsId', None),\n",
    "        }\n",
    "    }\n",
    "\n",
    "    \n",
    "    node_map[i.get('id')] = va\n",
    "    node_map[v['_id']] = v\n",
    "    edges.extend([va2d,va2g,va2v])"
   ]
  },
  {
   "cell_type": "code",
   "execution_count": 44,
   "id": "9fc14275-1881-43a1-a93b-d198d4b7714f",
   "metadata": {},
   "outputs": [
    {
     "name": "stdout",
     "output_type": "stream",
     "text": [
      "Nodes: 919566\n",
      "Edges: 2344311\n",
      "Writing Nodes to File\n"
     ]
    },
    {
     "name": "stderr",
     "output_type": "stream",
     "text": [
      "100%|████████████████████████████████████████████████████████████████████████████████████████████████████████████████████████████████████████████████████████████████████████████████████████████████████████████| 919566/919566 [00:28<00:00, 32446.65it/s]\n"
     ]
    },
    {
     "name": "stdout",
     "output_type": "stream",
     "text": [
      "Writing Edges to File\n"
     ]
    },
    {
     "name": "stderr",
     "output_type": "stream",
     "text": [
      "100%|█████████████████████████████████████████████████████████████████████████████████████████████████████████████████████████████████████████████████████████████████████████████████████████████████████████| 2344311/2344311 [00:16<00:00, 144386.92it/s]\n"
     ]
    }
   ],
   "source": [
    "nodes = node_map.values()\n",
    "print(f'Nodes: {len(nodes)}')\n",
    "print(f'Edges: {len(edges)}')\n",
    "\n",
    "with gzip.open(os.path.join(processed_data, 'OTG_node.jsonl.gz'), 'wt') as f:\n",
    "    print('Writing Nodes to File')\n",
    "    for n in tqdm(nodes):\n",
    "        f.write(json.dumps(n) + '\\n')\n",
    "with gzip.open(os.path.join(processed_data, 'OTG_edge.jsonl.gz'), 'wt') as f:\n",
    "    print('Writing Edges to File')\n",
    "    for e in tqdm(edges):\n",
    "        f.write(json.dumps(e) + '\\n')\n",
    "\n",
    "metadata = {\n",
    "    \"_meta\": {\n",
    "        \"version\": \"0.2.0\",\n",
    "        \"date_updated\": \"2024-05-17\",\n",
    "        \"maintainer\": \"BioBox Analytics\"\n",
    "    },\n",
    "      \"key\": \"ot_genetics\",\n",
    "      \"name\": \"Open Targets - Genetics\",\n",
    "      \"description\": \"This data package contains information extracted from Open Targets Genetics (OTG) to enhance your graph with GWAS semantics and observations. Contents of this package provides an evidence-based connection between known GWAS traits and their relatedness to variants and genes. Assignment of variants to their lead and/or causal genes is achieved through OTG Locus2Gene machine learning model.\",\n",
    "      \"source\": [\n",
    "        {\n",
    "          \"uri\": \"https://platform-docs.opentargets.org/evidence#open-targets-genetics\",\n",
    "          \"type\": \"doc\"\n",
    "        },\n",
    "        {\n",
    "          \"uri\": \"https://platform.opentargets.org/downloads\",\n",
    "          \"type\": \"data\",\n",
    "          \"version\": \"24.03\"\n",
    "        }\n",
    "      ],\n",
    "    \"concepts\": {\n",
    "       \"Trait\": {\n",
    "          \"label\": \"Trait\",\n",
    "          \"dbLabel\": \"Trait\",\n",
    "          \"definition\": \"GWAS trait is an Experiment Factor Ontology (EFO) that can represent a biological process, a disease, or a phenotype.\"\n",
    "        },\n",
    "        \"Variant\": {\n",
    "          \"label\": \"Variant\",\n",
    "          \"dbLabel\": \"Variant\",\n",
    "          \"definition\": \"A genetic variation\"\n",
    "        },\n",
    "        \"VariantAssociation\": {\n",
    "          \"label\": \"Variant Association\",\n",
    "          \"dbLabel\": \"VariantAssociation\",\n",
    "          \"definition\": \"A hyper edge that connects a study, a variant, and a trait that, together, represents an association event.\"\n",
    "        }\n",
    "    },\n",
    "    \"relationships\": {\n",
    "        'protective against': {\n",
    "            'from': 'VariantAssociation',\n",
    "            'to': 'Trait'\n",
    "        },\n",
    "        'risk of trait': {\n",
    "            'from': 'VariantAssociation',\n",
    "            'to': 'Trait'\n",
    "        },\n",
    "        'of trait': {\n",
    "            'from': 'VariantAssociation',\n",
    "            'to': 'Trait'\n",
    "        },\n",
    "        \"when variant is\": {\n",
    "          \"from\": \"VariantAssociation\",\n",
    "          \"to\": \"Variant\"\n",
    "        },\n",
    "        'increased gene product level of': {\n",
    "          \"from\": \"VariantAssociation\",\n",
    "          \"to\": \"Gene\"\n",
    "        },\n",
    "        'decreased gene product level of': {\n",
    "          \"from\": \"VariantAssociation\",\n",
    "          \"to\": \"Gene\"\n",
    "        },\n",
    "        'altered gene product level of': {\n",
    "          \"from\": \"VariantAssociation\",\n",
    "          \"to\": \"Gene\"\n",
    "        },\n",
    "        'has association': {\n",
    "          \"from\": \"VariantAssociation\",\n",
    "          \"to\": \"Gene\"\n",
    "        }\n",
    "    }\n",
    "}\n",
    "\n",
    "with open(os.path.join(processed_data, 'OTG_metadata.json'), 'w') as f:\n",
    "    json.dump(metadata, f)"
   ]
  },
  {
   "cell_type": "code",
   "execution_count": null,
   "id": "77483c01-7a8a-4611-b565-0716c77a56b7",
   "metadata": {},
   "outputs": [],
   "source": []
  }
 ],
 "metadata": {
  "kernelspec": {
   "display_name": "Python 3 (ipykernel)",
   "language": "python",
   "name": "python3"
  },
  "language_info": {
   "codemirror_mode": {
    "name": "ipython",
    "version": 3
   },
   "file_extension": ".py",
   "mimetype": "text/x-python",
   "name": "python",
   "nbconvert_exporter": "python",
   "pygments_lexer": "ipython3",
   "version": "3.11.3"
  }
 },
 "nbformat": 4,
 "nbformat_minor": 5
}
