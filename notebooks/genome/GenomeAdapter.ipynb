{
 "cells": [
  {
   "cell_type": "markdown",
   "id": "c14b131a-09d8-48bc-a269-6133ec8c9c25",
   "metadata": {},
   "source": [
    "## Genome Adapter processing: Using Ensembl GTF as an example"
   ]
  },
  {
   "cell_type": "code",
   "execution_count": 1,
   "id": "d38ede94-a17d-43bf-bc85-5d6a2ba7b085",
   "metadata": {},
   "outputs": [],
   "source": [
    "from biobox_analytics.data.adapters.genome import GenomeAdapter"
   ]
  },
  {
   "cell_type": "code",
   "execution_count": 2,
   "id": "a06813ab-bedf-419d-849f-fc8257baf4c3",
   "metadata": {},
   "outputs": [],
   "source": [
    "gen = GenomeAdapter(species=\"mus musculus\")"
   ]
  },
  {
   "cell_type": "code",
   "execution_count": 4,
   "id": "9fa55a52-b11d-4730-af21-109336949303",
   "metadata": {},
   "outputs": [
    {
     "name": "stderr",
     "output_type": "stream",
     "text": [
      "INFO:root:Extracted GTF attributes: ['gene_id', 'gene_version', 'gene_name', 'gene_source', 'gene_biotype', 'transcript_id', 'transcript_version', 'transcript_name', 'transcript_source', 'transcript_biotype', 'exon_number', 'exon_id', 'exon_version', 'tag', 'ccds_id', 'protein_id', 'protein_version']\n"
     ]
    }
   ],
   "source": [
    "gen.iterate_nodes(gtf_file_path=\"/Users/hamza/Documents/BX/TestData/GenomeAdapter/Mus_musculus.GRCm38.77.gtf.gz\")"
   ]
  },
  {
   "cell_type": "code",
   "execution_count": null,
   "id": "3b4c9a39-921b-4026-b2a2-d01710909653",
   "metadata": {},
   "outputs": [],
   "source": [
    "gen.iterate_edges()"
   ]
  }
 ],
 "metadata": {
  "kernelspec": {
   "display_name": "Python 3 (ipykernel)",
   "language": "python",
   "name": "python3"
  },
  "language_info": {
   "codemirror_mode": {
    "name": "ipython",
    "version": 3
   },
   "file_extension": ".py",
   "mimetype": "text/x-python",
   "name": "python",
   "nbconvert_exporter": "python",
   "pygments_lexer": "ipython3",
   "version": "3.9.6"
  }
 },
 "nbformat": 4,
 "nbformat_minor": 5
}
