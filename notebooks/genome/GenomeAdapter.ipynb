{
 "cells": [
  {
   "cell_type": "markdown",
   "id": "c14b131a-09d8-48bc-a269-6133ec8c9c25",
   "metadata": {},
   "source": [
    "## Genome Adapter processing: Using Ensembl GTF as an example"
   ]
  },
  {
   "cell_type": "markdown",
   "id": "413e95ff-f224-476b-81af-e6d97048f144",
   "metadata": {},
   "source": [
    "#### The only package that you need to install in order to process single cell atacseq data from an h5ad file is the biobox-analytics package. The package should install and import the necessary packages, which include: json, os, gzip, math, datetime, itertools, scanpy, pandas"
   ]
  },
  {
   "cell_type": "code",
   "execution_count": 1,
   "id": "d38ede94-a17d-43bf-bc85-5d6a2ba7b085",
   "metadata": {},
   "outputs": [],
   "source": [
    "from biobox_analytics.data.adapters.genome import GenomeAdapter"
   ]
  },
  {
   "cell_type": "markdown",
   "id": "ff8ca9d7-cc6e-4713-8ec1-7ce6c6eda0e1",
   "metadata": {},
   "source": [
    "#### Pass in the path to your h5ad file. The object of instance ScATAC will load the object using the scanpy.read_h5ad function. Your h5ad object (scanpy object) is then held under the .atac variable"
   ]
  },
  {
   "cell_type": "code",
   "execution_count": 2,
   "id": "a06813ab-bedf-419d-849f-fc8257baf4c3",
   "metadata": {},
   "outputs": [],
   "source": [
    "gen = GenomeAdapter(species=\"mus musculus\")"
   ]
  },
  {
   "cell_type": "markdown",
   "id": "a5e2e6b7-bd47-4c00-8f8a-b627f8d2f431",
   "metadata": {},
   "source": [
    "#### Optionally, set the name, description, and key of the datapack that you are generating from your file. This step is optional at this time and can be skipped"
   ]
  },
  {
   "cell_type": "code",
   "execution_count": 3,
   "id": "a499ad74-70d3-4d51-880d-419d6ddcc5fe",
   "metadata": {},
   "outputs": [],
   "source": [
    "scatac.set_metadata(displayName=\"Ovary ATAC - A molecular atlas of the human postmenopausal fallopian tube and ovary from single-cell RNA and ATAC sequencing\", description=\"As part of the Human Cell Atlas initiative, we generated transcriptomic (scRNA-seq; 86,708 cells) and regulatory (scATAC-seq; 59,118 cells) profiles of the normal postmenopausal ovary and fallopian tube (FT) at single-cell resolution. In the FT, 22 cell clusters integrated into 11 cell types, including ciliated and secretory epithelial cells, while the ovary had 17 distinct cell clusters defining 6 major cell types.\", key=\"EGAS00001006780_OvaryATAC\")"
   ]
  },
  {
   "cell_type": "code",
   "execution_count": 4,
   "id": "9fa55a52-b11d-4730-af21-109336949303",
   "metadata": {},
   "outputs": [
    {
     "name": "stderr",
     "output_type": "stream",
     "text": [
      "INFO:root:Extracted GTF attributes: ['gene_id', 'gene_version', 'gene_name', 'gene_source', 'gene_biotype', 'transcript_id', 'transcript_version', 'transcript_name', 'transcript_source', 'transcript_biotype', 'exon_number', 'exon_id', 'exon_version', 'tag', 'ccds_id', 'protein_id', 'protein_version']\n"
     ]
    }
   ],
   "source": [
    "nodes = gen.iterate_nodes(gtf_file_path=\"/Users/hamza/Documents/BX/TestData/GenomeAdapter/Mus_musculus.GRCm38.77.gtf.gz\")"
   ]
  }
 ],
 "metadata": {
  "kernelspec": {
   "display_name": "Python 3 (ipykernel)",
   "language": "python",
   "name": "python3"
  },
  "language_info": {
   "codemirror_mode": {
    "name": "ipython",
    "version": 3
   },
   "file_extension": ".py",
   "mimetype": "text/x-python",
   "name": "python",
   "nbconvert_exporter": "python",
   "pygments_lexer": "ipython3",
   "version": "3.9.6"
  }
 },
 "nbformat": 4,
 "nbformat_minor": 5
}
