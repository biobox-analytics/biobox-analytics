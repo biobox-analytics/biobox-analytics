{
 "cells": [
  {
   "cell_type": "markdown",
   "id": "c14b131a-09d8-48bc-a269-6133ec8c9c25",
   "metadata": {},
   "source": [
    "## Single Cell ATAC Seq processing: Using CZ Data as the example"
   ]
  },
  {
   "cell_type": "markdown",
   "id": "413e95ff-f224-476b-81af-e6d97048f144",
   "metadata": {},
   "source": [
    "#### The only package that you need to install in order to process single cell atacseq data from an h5ad file is the biobox-analytics package. The package should install and import the necessary packages, which include: json, os, gzip, math, datetime, itertools, scanpy, pandas"
   ]
  },
  {
   "cell_type": "code",
   "execution_count": 1,
   "id": "d38ede94-a17d-43bf-bc85-5d6a2ba7b085",
   "metadata": {},
   "outputs": [],
   "source": [
    "from biobox_analytics.data.adapters.scatac import ScATAC"
   ]
  },
  {
   "cell_type": "markdown",
   "id": "ff8ca9d7-cc6e-4713-8ec1-7ce6c6eda0e1",
   "metadata": {},
   "source": [
    "#### Pass in the path to your h5ad file. The object of instance ScATAC will load the object using the scanpy.read_h5ad function. Your h5ad object (scanpy object) is then held under the .atac variable"
   ]
  },
  {
   "cell_type": "code",
   "execution_count": 2,
   "id": "a06813ab-bedf-419d-849f-fc8257baf4c3",
   "metadata": {},
   "outputs": [],
   "source": [
    "scatac = ScATAC(h5adFile=\"/Users/hamza/Downloads/OvaryATAC-aa3e7259-0864-4c04-9e3d-e05c3c05d879.h5ad\")"
   ]
  },
  {
   "cell_type": "markdown",
   "id": "a5e2e6b7-bd47-4c00-8f8a-b627f8d2f431",
   "metadata": {},
   "source": [
    "#### Optionally, set the name, description, and key of the datapack that you are generating from your file. This step is optional at this time and can be skipped"
   ]
  },
  {
   "cell_type": "code",
   "execution_count": 3,
   "id": "a499ad74-70d3-4d51-880d-419d6ddcc5fe",
   "metadata": {},
   "outputs": [],
   "source": [
    "scatac.set_metadata(displayName=\"Ovary ATAC - A molecular atlas of the human postmenopausal fallopian tube and ovary from single-cell RNA and ATAC sequencing\", description=\"As part of the Human Cell Atlas initiative, we generated transcriptomic (scRNA-seq; 86,708 cells) and regulatory (scATAC-seq; 59,118 cells) profiles of the normal postmenopausal ovary and fallopian tube (FT) at single-cell resolution. In the FT, 22 cell clusters integrated into 11 cell types, including ciliated and secretory epithelial cells, while the ovary had 17 distinct cell clusters defining 6 major cell types.\", key=\"EGAS00001006780_OvaryATAC\")"
   ]
  },
  {
   "cell_type": "markdown",
   "id": "252ae5da-f185-4687-b7fc-2dec46c7aee6",
   "metadata": {},
   "source": [
    "#### You can inspect your object freely. However, the major properties that are expected are the obs, holding metadata regarding each cell, and var, holding information about the features being observed (ie the genes) You can should inspect the columns of the obs dataframe to determine what metadata you'd like to capture for the SingleCellExperiment and Donor nodes respectively. It is expected to have a column within the obs dataframe that contains information for mappign each cell to a celltype, encoded using CellType ontology IDs"
   ]
  },
  {
   "cell_type": "code",
   "execution_count": 31,
   "id": "79bf712e-8d60-436e-855b-a02f34305238",
   "metadata": {},
   "outputs": [
    {
     "data": {
      "text/plain": [
       "AnnData object with n_obs × n_vars = 18315 × 19281\n",
       "    obs: 'mapped_reference_assembly', 'alignment_software', 'donor_id', 'self_reported_ethnicity_ontology_term_id', 'donor_living_at_sample_collection', 'donor_menopausal_status', 'organism_ontology_term_id', 'sample_uuid', 'sample_preservation_method', 'tissue_ontology_term_id', 'development_stage_ontology_term_id', 'sample_derivation_process', 'sample_source', 'suspension_derivation_process', 'suspension_uuid', 'suspension_type', 'library_uuid', 'assay_ontology_term_id', 'library_starting_quantity', 'is_primary_data', 'cell_type_ontology_term_id', 'author_cell_type', 'disease_ontology_term_id', 'sex_ontology_term_id', 'nCount_ATAC', 'nFeature_ATAC', 'mitochondrial', 'sub_celltype', 'sample', 'tissue_type', 'cell_type', 'assay', 'disease', 'organism', 'sex', 'tissue', 'self_reported_ethnicity', 'development_stage', 'observation_joinid'\n",
       "    var: 'feature_is_filtered', 'feature_name', 'feature_reference', 'feature_biotype', 'feature_length'\n",
       "    uns: 'citation', 'default_embedding', 'schema_reference', 'schema_version', 'title'\n",
       "    obsm: 'X_harmony', 'X_lsi', 'X_umap'"
      ]
     },
     "execution_count": 31,
     "metadata": {},
     "output_type": "execute_result"
    }
   ],
   "source": [
    "scatac.atac"
   ]
  },
  {
   "cell_type": "markdown",
   "id": "2d819a75-3f1e-4fb8-8edb-048622d2513f",
   "metadata": {},
   "source": [
    "#### Now that you've observed all the necessary columns and have a better understanding of your data, it's time to set the column values. Set the following variables with the appropriate column header values:\n",
    "- celltype_col: Column value containing the cell type ontology ID mapping\n",
    "- library_col: Column containing the uuid of the single cell atac experiment\n",
    "- sample_col: Column containing the uuid of the sample uuid information\n",
    "- library_metadata_cols: Array of columns that contain the metadata/information associated with the single cell experiment. Only unique rows per library_col will be kept before transforming each row into an object of type single cell experiment\n",
    "- sample_metadata_cols: Array of columns that contain the metadata/information associated with the samples. Only unique rows per sample_col will be kept before transforming each row into an object of type single cell experiment"
   ]
  },
  {
   "cell_type": "code",
   "execution_count": 4,
   "id": "dbb8c919-b9b2-407f-b2a1-832995785373",
   "metadata": {},
   "outputs": [],
   "source": [
    "celltype_col = 'cell_type_ontology_term_id'\n",
    "library_col = 'library_uuid'\n",
    "sample_col = 'sample_uuid'\n",
    "sample_metadata_cols = ['donor_id', 'sample_uuid', 'self_reported_ethnicity_ontology_term_id', 'sample_preservation_method', 'tissue_ontology_term_id', 'development_stage_ontology_term_id', 'organism', 'sex', 'tissue', 'self_reported_ethnicity', 'development_stage']\n",
    "library_metadata_cols = ['library_uuid', 'assay', 'tissue_type']"
   ]
  },
  {
   "cell_type": "markdown",
   "id": "c5d0801f-19aa-485c-a50e-02746937bee8",
   "metadata": {},
   "source": [
    "#### With the variables now set, you can run the iterate_nodes and iterate_edges function to output a node.jsonl.gz and edge.jsonl.gz file respectively. These writes function as appends to the file, so ensure that all previous runs are cleared from the directory before calling the fucntion again. These files will have the correct schema that is ingestible by the BioBox platform. If you would like to hold the nodes and edges in memory, you can set the parameter write_to_disk=False in the function call. Note that because of the extensive number of edge connections between each cell barcode and gene, the edges will not be help in memory"
   ]
  },
  {
   "cell_type": "code",
   "execution_count": 5,
   "id": "457b592c-213a-40f3-b05a-a2b83798da81",
   "metadata": {},
   "outputs": [
    {
     "name": "stdout",
     "output_type": "stream",
     "text": [
      "Running function in write mode. Writing to file node.jsonl.gz. To return nodes, set write_to_disk=False in function call\n",
      "Create cell nodes\n",
      "Writing 18315 cell nodes to file\n",
      "Create experiment nodes\n",
      "Writing 3 experiment nodes to file\n",
      "Create sample nodes\n",
      "Writing 3 sample nodes to file\n",
      "All nodes written to file: node.jsonl.gz\n"
     ]
    }
   ],
   "source": [
    "nodes = scatac.iterate_nodes(\n",
    "    sample_id_col=sample_col,\n",
    "    sc_library_experiment_id=library_col,\n",
    "    sample_metadata_cols_to_subset=sample_metadata_cols,\n",
    "    sc_experiment_cols_to_subset=library_metadata_cols\n",
    ")"
   ]
  },
  {
   "cell_type": "markdown",
   "id": "ba8c8b1c-a2a9-4848-a3c9-076fce88632f",
   "metadata": {},
   "source": [
    "#### To prevent excessive memory usage, the cell-gene edges are processed using batches of 1000 cells at a time. These batches are transformed into the correct payload, written to disk, and then cleared from memory before the next batch begins. The print messages will give you updates on which batch is currently being written."
   ]
  },
  {
   "cell_type": "code",
   "execution_count": 6,
   "id": "b2962727-494e-49a1-ba54-53c6ec94f66a",
   "metadata": {},
   "outputs": [
    {
     "name": "stdout",
     "output_type": "stream",
     "text": [
      "Running function in write mode. Writing to file edge.jsonl.gz. To return edges, set write_to_disk=False in function call\n",
      "Calculating experiment-cell edges\n",
      "Writing 18315 experiment-cell edges to file\n",
      "Calculating sample-experiment edges\n",
      "Writing 3 sample-experiment edges to file\n",
      "Calculating cell-celltype edges\n",
      "Writing 18315 cell-celltype edges to file\n",
      "Calculating cell-gene edges\n",
      "Number of cells to process: 18315\n",
      "Starting Cell x Gene edge processing now: 2024-06-14 13:38:11.847266\n",
      "Processing batch index 0:1000 at time 2024-06-14 13:38:11.847288\n",
      "Processing batch index 1000:2000 at time 2024-06-14 13:40:03.616322\n",
      "Processing batch index 2000:3000 at time 2024-06-14 13:41:52.079281\n",
      "Processing batch index 3000:4000 at time 2024-06-14 13:43:43.204352\n",
      "Processing batch index 4000:5000 at time 2024-06-14 13:45:34.297835\n",
      "Processing batch index 5000:6000 at time 2024-06-14 13:47:29.143572\n",
      "Processing batch index 6000:7000 at time 2024-06-14 13:49:22.771702\n",
      "Processing batch index 7000:8000 at time 2024-06-14 13:51:14.418784\n",
      "Processing batch index 8000:9000 at time 2024-06-14 13:53:04.791047\n",
      "Processing batch index 9000:10000 at time 2024-06-14 13:55:49.562879\n",
      "Processing batch index 10000:11000 at time 2024-06-14 13:58:36.480029\n",
      "Processing batch index 11000:12000 at time 2024-06-14 14:01:25.467240\n",
      "Processing batch index 12000:13000 at time 2024-06-14 14:04:15.717354\n",
      "Processing batch index 13000:14000 at time 2024-06-14 14:07:01.130492\n",
      "Processing batch index 14000:15000 at time 2024-06-14 14:09:48.825411\n",
      "Processing batch index 15000:16000 at time 2024-06-14 14:13:03.321589\n",
      "Processing batch index 16000:17000 at time 2024-06-14 14:16:47.967885\n",
      "Processing batch index 17000:18000 at time 2024-06-14 14:20:27.111031\n",
      "Processing batch index 18000:18315 at time 2024-06-14 14:24:17.346504\n",
      "Cell x Gene edges written to file: edge.jsonl.gz at time 2024-06-14 14:25:32.124240\n",
      "All edges written to file: edge.jsonl.gz\n"
     ]
    }
   ],
   "source": [
    "scatac.iterate_edges(\n",
    "    sample_id_col=sample_col,\n",
    "    sc_library_experiment_id=library_col,\n",
    "    celltype_id_col=celltype_col\n",
    ")"
   ]
  },
  {
   "cell_type": "markdown",
   "id": "eb8e5c13-8ce1-4770-954f-0b6a4c89f49f",
   "metadata": {},
   "source": [
    "#### Additionally, to understand the schema of the concepts and relationships of the adapter, you can call the list_schema() function, which will return the metadata associated with this datapack. You can update the name, key, and description of the datapack through the function set_metadata() prior to calling the list_schema() method."
   ]
  },
  {
   "cell_type": "code",
   "execution_count": 29,
   "id": "620350e8-e72c-4fda-a229-ecb3a88f3b8f",
   "metadata": {},
   "outputs": [
    {
     "data": {
      "text/plain": [
       "{'_meta': {'version': '0.0.1', 'date_updated': '2024-06-14 11:16:08.113905'},\n",
       " 'name': 'Ovary ATAC - A molecular atlas of the human postmenopausal fallopian tube and ovary from single-cell RNA and ATAC sequencing',\n",
       " 'key': 'EGAS00001006780_OvaryATAC',\n",
       " 'description': 'As part of the Human Cell Atlas initiative, we generated transcriptomic (scRNA-seq; 86,708 cells) and regulatory (scATAC-seq; 59,118 cells) profiles of the normal postmenopausal ovary and fallopian tube (FT) at single-cell resolution. In the FT, 22 cell clusters integrated into 11 cell types, including ciliated and secretory epithelial cells, while the ovary had 17 distinct cell clusters defining 6 major cell types.',\n",
       " 'dependencies': ['Ensembl'],\n",
       " 'concepts': {'Experiment': {'label': 'Experiment',\n",
       "   'dbLabel': 'Experiment',\n",
       "   'definition': 'Experiment of the sample tissue'},\n",
       "  'SingleCellExperiment': {'label': 'SingleCellExperiment',\n",
       "   'dbLabel': 'SingleCellExperiment',\n",
       "   'definition': 'Single Cell Experiment of the sample tissue',\n",
       "   'sco': 'Experiment'},\n",
       "  'SingleCellATACseqExperiment': {'label': 'SingleCellATACseqExperiment',\n",
       "   'dbLabel': 'SingleCellATACseqExperiment',\n",
       "   'definition': 'Single Cell RNAseq Experiment of the sample tissue',\n",
       "   'sco': 'SingleCellExperiment'},\n",
       "  'Sample': {'label': 'Sample',\n",
       "   'dbLabel': 'Sample',\n",
       "   'definition': 'Sample organism from which tissue was taken to be analyzed'},\n",
       "  'CellBarcode': {'label': 'Cell Barcode',\n",
       "   'dbLabel': 'CellBarcode',\n",
       "   'definition': 'Individual cell from scRNA experiment, identified by barcode'}},\n",
       " 'relationships': {'contains cell': {'from': 'SingleCellExperiment',\n",
       "   'to': 'CellBarcode'},\n",
       "  'has gene peak': {'from': 'CellBarcode', 'to': 'Gene'},\n",
       "  'has experiment': {'from': 'Sample', 'to': 'Experiment'},\n",
       "  'has cell type': {'from': 'CellBarcode', 'to': 'CellType'}}}"
      ]
     },
     "execution_count": 29,
     "metadata": {},
     "output_type": "execute_result"
    }
   ],
   "source": [
    "scatac.list_schema()"
   ]
  }
 ],
 "metadata": {
  "kernelspec": {
   "display_name": "Python 3 (ipykernel)",
   "language": "python",
   "name": "python3"
  },
  "language_info": {
   "codemirror_mode": {
    "name": "ipython",
    "version": 3
   },
   "file_extension": ".py",
   "mimetype": "text/x-python",
   "name": "python",
   "nbconvert_exporter": "python",
   "pygments_lexer": "ipython3",
   "version": "3.9.6"
  }
 },
 "nbformat": 4,
 "nbformat_minor": 5
}
