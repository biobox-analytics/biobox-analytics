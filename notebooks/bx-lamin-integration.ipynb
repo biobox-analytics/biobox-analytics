{
 "cells": [
  {
   "cell_type": "markdown",
   "id": "e87740d0-d25e-4494-b530-0eb6f395707c",
   "metadata": {},
   "source": [
    "Imports and setting up registration of each integration"
   ]
  },
  {
   "cell_type": "code",
   "execution_count": 34,
   "id": "a7d84355-e460-4ffa-9a40-10464eb16958",
   "metadata": {},
   "outputs": [],
   "source": [
    "import os\n",
    "import bionty as bt\n",
    "from biobox_analytics.integrations._lamindb import BxLamin\n",
    "from biobox_analytics.core._node import Node\n",
    "# from BxLamin import BxLamin\n",
    "\n",
    "os.environ[\"BIOBOX_REST_API\"] = \"https://pr-1645-rest.frzb.biobox.to\"\n",
    "# BIOBOX_TOKEN = os.environ.get(\"BIOBOX_TOKEN\")\n",
    "os.environ[\"BIOBOX_TOKEN\"] = \"eyJhbGciOiJSUzI1NiIsInR5cCI6IkpXVCIsImtpZCI6IjJqQ2Rqd2dIQVlVLU9qVW1qdDMyUSJ9.eyJodHRwczovL2Jpb2JveC5pbyI6eyJfaWQiOiIzMzA5ZjFhYWE0YTdiMjIwODIyZTEyNGY0NDMyM2E1ZiIsImNsaWVudElEIjoiM3c2eEIxQnlaQjNPRkFUNmxnVkdwa3VHNlBhN0hCNUwiLCJjcmVhdGVkX2F0IjoiMjAyMC0xMC0wOFQxNDoyMTo0Ny41ODRaIiwiZW1haWwiOiJoYW16YUBiaW9ib3guaW8iLCJlbWFpbF92ZXJpZmllZCI6dHJ1ZSwiaWRlbnRpdGllcyI6W3siY29ubmVjdGlvbiI6IlVzZXJuYW1lLVBhc3N3b3JkLUF1dGhlbnRpY2F0aW9uIiwicHJvdmlkZXIiOiJhdXRoMCIsInVzZXJfaWQiOiI1ZjdmMjA3YjkyOWEwZTAwNzVhNzNjMjkiLCJpc1NvY2lhbCI6ZmFsc2V9XSwibmFtZSI6ImhhbXphQGJpb2JveC5pbyIsIm5pY2tuYW1lIjoiaGFtemEiLCJwaWN0dXJlIjoiaHR0cHM6Ly9zLmdyYXZhdGFyLmNvbS9hdmF0YXIvN2NmNGNhZDY1NjE4NDUwNTEzMDFlZDRjODk4Mjg4YTU_cz00ODAmcj1wZyZkPWh0dHBzJTNBJTJGJTJGY2RuLmF1dGgwLmNvbSUyRmF2YXRhcnMlMkZoYS5wbmciLCJ1cGRhdGVkX2F0IjoiMjAyNC0wNi0wM1QxMzoxMDowNS4xMTFaIiwidXNlcl9pZCI6ImF1dGgwfDVmN2YyMDdiOTI5YTBlMDA3NWE3M2MyOSIsImxhc3RfcGFzc3dvcmRfcmVzZXQiOiIyMDIwLTExLTEyVDE2OjE5OjQzLjcyOVoiLCJnbG9iYWxfY2xpZW50X2lkIjoiY241ajRvQnNzVktIdHNXUDBsY3VWdmwzVGNnSWpaWlIiLCJwZXJzaXN0ZW50Ijp7fX0sIm5pY2tuYW1lIjoiaGFtemEiLCJuYW1lIjoiaGFtemFAYmlvYm94LmlvIiwicGljdHVyZSI6Imh0dHBzOi8vcy5ncmF2YXRhci5jb20vYXZhdGFyLzdjZjRjYWQ2NTYxODQ1MDUxMzAxZWQ0Yzg5ODI4OGE1P3M9NDgwJnI9cGcmZD1odHRwcyUzQSUyRiUyRmNkbi5hdXRoMC5jb20lMkZhdmF0YXJzJTJGaGEucG5nIiwidXBkYXRlZF9hdCI6IjIwMjQtMDYtMDNUMTM6MTA6MDUuMTExWiIsImVtYWlsIjoiaGFtemFAYmlvYm94LmlvIiwiZW1haWxfdmVyaWZpZWQiOnRydWUsImlzcyI6Imh0dHBzOi8vYmlvYm94LWRldi5hdXRoMC5jb20vIiwiYXVkIjoiM3c2eEIxQnlaQjNPRkFUNmxnVkdwa3VHNlBhN0hCNUwiLCJpYXQiOjE3MTc3Njc2NjIsImV4cCI6MTg3NDkzNTY2Miwic3ViIjoiYXV0aDB8NWY3ZjIwN2I5MjlhMGUwMDc1YTczYzI5Iiwic2lkIjoieVJNYm9LWUJ1SFdoQnVSSnJ5REF0aE4wRGdCRlBNcGgifQ.gCVMmpVuFTXEkV52iJtmr_jUoFjKYQqZV2lvPyFPl95J8Kef02FUtPLZZIPzA73yWef57Wf1xM2FadHF9a-nMZtad1hKFC5xpYf4pC2EXMwbVhjsEDftCQRgRDF0OT6h-RsSbWtoZiRdxVtKjlp1iBDG3j638Y5yXsxnVZ6OMH7h0pQHYWAX9sqNWSZQPiRimQJ24YEUU0lcAwdhsRzc23TAbz9oDbwCZUNrl9mx77PFYmt8B1O8LFBlKEygV_oE8vHgj2ozwAnIhvnOhf5bCz2C9RL9stKw-keA2ofrPELh3nwWnXjAmH6g5MTaQo3j3vVijDGVqthHF78BPsbGvA\"\n",
    "# BIOBOX_ORGID = os.environ.get(\"BIOBOX_ORGID\")\n",
    "os.environ[\"BIOBOX_ORGID\"] = \"bx-57ceb6bf-6857-4489-b0f5-5a29bd1aa5d9\""
   ]
  },
  {
   "cell_type": "markdown",
   "id": "3c3a5021-b112-4dd5-b991-2b7d0549757b",
   "metadata": {},
   "source": [
    "Create a new bionty object"
   ]
  },
  {
   "cell_type": "code",
   "execution_count": 2,
   "id": "9657683a-b01d-49ca-a6de-6aa7858b45c0",
   "metadata": {},
   "outputs": [
    {
     "data": {
      "text/plain": [
       "Disease(uid='woJNRFH1', name='craniosynostosis 2', ontology_id='MONDO:0011481', synonyms='craniosynostosis type 2|CRS2|Warman-Mulliken-Hayward syndrome|craniosynostosis 2|MSX2-related craniosynostosis|craniosynostosis, Warman type', created_by_id=1, public_source_id=39)"
      ]
     },
     "execution_count": 2,
     "metadata": {},
     "output_type": "execute_result"
    }
   ],
   "source": [
    "disease_public = bt.Disease.public()\n",
    "disease_public_lookup = disease_public.lookup()\n",
    "craniosynostosis_2 = bt.Disease(disease_public_lookup.craniosynostosis_2)\n",
    "craniosynostosis_2"
   ]
  },
  {
   "cell_type": "code",
   "execution_count": 3,
   "id": "8abb0ef1-cc07-434b-962b-7b815f506537",
   "metadata": {},
   "outputs": [],
   "source": [
    "test2 = BxLamin(craniosynostosis_2)"
   ]
  },
  {
   "cell_type": "code",
   "execution_count": 6,
   "id": "8a204b1d-06cb-4bff-a513-b1d20f077c8a",
   "metadata": {},
   "outputs": [
    {
     "data": {
      "text/plain": [
       "'craniosynostosis 2'"
      ]
     },
     "execution_count": 6,
     "metadata": {},
     "output_type": "execute_result"
    }
   ],
   "source": [
    "test2._node.displayName"
   ]
  },
  {
   "cell_type": "code",
   "execution_count": 26,
   "id": "3e517383-9102-46f9-acc5-f8e4cf7a3bb3",
   "metadata": {},
   "outputs": [],
   "source": [
    "lm_adenocarcinoma = bt.Disease(disease_public_lookup.adenocarcinoma)"
   ]
  },
  {
   "cell_type": "code",
   "execution_count": 27,
   "id": "decd8ce3-36a0-4eb6-a626-0ba38ebb5d13",
   "metadata": {},
   "outputs": [
    {
     "data": {
      "text/plain": [
       "Disease(uid='5XBRO1kj', name='adenocarcinoma', ontology_id='MONDO:0004970', synonyms='adenocarcinoma, no subtype (morphologic abnormality)|adenocarcinomas|adenocarcinoma, malignant|adenocarcinoma NOS (morphologic abnormality)|adenocarcinoma', created_by_id=1, public_source_id=39)"
      ]
     },
     "execution_count": 27,
     "metadata": {},
     "output_type": "execute_result"
    }
   ],
   "source": [
    "lm_adenocarcinoma"
   ]
  },
  {
   "cell_type": "code",
   "execution_count": 29,
   "id": "330b57dc-4d9f-46c9-9b64-a9a127f202a8",
   "metadata": {},
   "outputs": [],
   "source": [
    "bx_adenocarcinoma = BxLamin(lm_adenocarcinoma)"
   ]
  },
  {
   "cell_type": "code",
   "execution_count": 44,
   "id": "b2227bc2-569a-441a-8b12-e4ded51cb766",
   "metadata": {},
   "outputs": [
    {
     "ename": "NameError",
     "evalue": "name '_setup' is not defined",
     "output_type": "error",
     "traceback": [
      "\u001b[0;31m---------------------------------------------------------------------------\u001b[0m",
      "\u001b[0;31mNameError\u001b[0m                                 Traceback (most recent call last)",
      "Cell \u001b[0;32mIn[44], line 1\u001b[0m\n\u001b[0;32m----> 1\u001b[0m a \u001b[38;5;241m=\u001b[39m \u001b[43mNode\u001b[49m\u001b[43m(\u001b[49m\u001b[38;5;124;43m\"\u001b[39;49m\u001b[38;5;124;43mEFO:0000228\u001b[39;49m\u001b[38;5;124;43m\"\u001b[39;49m\u001b[43m,\u001b[49m\u001b[43m \u001b[49m\u001b[38;5;124;43m\"\u001b[39;49m\u001b[38;5;124;43mDisease\u001b[39;49m\u001b[38;5;124;43m\"\u001b[39;49m\u001b[43m)\u001b[49m\n",
      "Cell \u001b[0;32mIn[43], line 8\u001b[0m, in \u001b[0;36mNode.__init__\u001b[0;34m(self, uuid, db_label)\u001b[0m\n\u001b[1;32m      6\u001b[0m \u001b[38;5;28mself\u001b[39m\u001b[38;5;241m.\u001b[39muuid \u001b[38;5;241m=\u001b[39m uuid\n\u001b[1;32m      7\u001b[0m \u001b[38;5;28mself\u001b[39m\u001b[38;5;241m.\u001b[39mdb_label \u001b[38;5;241m=\u001b[39m db_label\n\u001b[0;32m----> 8\u001b[0m bx_data \u001b[38;5;241m=\u001b[39m \u001b[38;5;28;43mself\u001b[39;49m\u001b[38;5;241;43m.\u001b[39;49m\u001b[43m_load\u001b[49m\u001b[43m(\u001b[49m\u001b[43m)\u001b[49m\n\u001b[1;32m     10\u001b[0m \u001b[38;5;28mself\u001b[39m\u001b[38;5;241m.\u001b[39m_exists \u001b[38;5;241m=\u001b[39m \u001b[38;5;28;01mFalse\u001b[39;00m\n\u001b[1;32m     12\u001b[0m \u001b[38;5;28;01mif\u001b[39;00m bx_data \u001b[38;5;129;01mis\u001b[39;00m \u001b[38;5;129;01mnot\u001b[39;00m \u001b[38;5;28;01mNone\u001b[39;00m:\n",
      "Cell \u001b[0;32mIn[43], line 88\u001b[0m, in \u001b[0;36mNode._load\u001b[0;34m(self)\u001b[0m\n\u001b[1;32m     86\u001b[0m \u001b[38;5;28;01mdef\u001b[39;00m \u001b[38;5;21m_load\u001b[39m(\u001b[38;5;28mself\u001b[39m):\n\u001b[1;32m     87\u001b[0m     res \u001b[38;5;241m=\u001b[39m requests\u001b[38;5;241m.\u001b[39mget(\n\u001b[0;32m---> 88\u001b[0m         \u001b[38;5;124mf\u001b[39m\u001b[38;5;124m\"\u001b[39m\u001b[38;5;132;01m{\u001b[39;00m_setup\u001b[38;5;241m.\u001b[39mBIOBOX_REST_API\u001b[38;5;132;01m}\u001b[39;00m\u001b[38;5;124m/bioref/object/\u001b[39m\u001b[38;5;132;01m{\u001b[39;00mquote(\u001b[38;5;28mself\u001b[39m\u001b[38;5;241m.\u001b[39muuid)\u001b[38;5;132;01m}\u001b[39;00m\u001b[38;5;124m\"\u001b[39m,\n\u001b[1;32m     89\u001b[0m         headers\u001b[38;5;241m=\u001b[39m{\n\u001b[1;32m     90\u001b[0m             \u001b[38;5;124m'\u001b[39m\u001b[38;5;124mx-biobox-orgid\u001b[39m\u001b[38;5;124m'\u001b[39m: _setup\u001b[38;5;241m.\u001b[39mBIOBOX_ORGID,\n\u001b[1;32m     91\u001b[0m             \u001b[38;5;124m'\u001b[39m\u001b[38;5;124mAuthorization\u001b[39m\u001b[38;5;124m'\u001b[39m: \u001b[38;5;124mf\u001b[39m\u001b[38;5;124m'\u001b[39m\u001b[38;5;124mBearer \u001b[39m\u001b[38;5;132;01m{\u001b[39;00m_setup\u001b[38;5;241m.\u001b[39mBIOBOX_TOKEN\u001b[38;5;132;01m}\u001b[39;00m\u001b[38;5;124m'\u001b[39m\n\u001b[1;32m     92\u001b[0m         }\n\u001b[1;32m     93\u001b[0m     )\n\u001b[1;32m     94\u001b[0m     \u001b[38;5;28;01mif\u001b[39;00m res\u001b[38;5;241m.\u001b[39mstatus_code \u001b[38;5;241m==\u001b[39m \u001b[38;5;241m200\u001b[39m:\n\u001b[1;32m     95\u001b[0m         \u001b[38;5;28;01mreturn\u001b[39;00m res\u001b[38;5;241m.\u001b[39mjson()\n",
      "\u001b[0;31mNameError\u001b[0m: name '_setup' is not defined"
     ]
    }
   ],
   "source": [
    "a = Node(\"EFO:0000228\", \"Disease\")"
   ]
  },
  {
   "cell_type": "code",
   "execution_count": 53,
   "id": "11234ac5-16b3-41d6-ac46-583c55cd1305",
   "metadata": {},
   "outputs": [
    {
     "name": "stdout",
     "output_type": "stream",
     "text": [
      "bx_data\n",
      "None\n"
     ]
    },
    {
     "ename": "AttributeError",
     "evalue": "'NoneType' object has no attribute 'keys'",
     "output_type": "error",
     "traceback": [
      "\u001b[0;31m---------------------------------------------------------------------------\u001b[0m",
      "\u001b[0;31mAttributeError\u001b[0m                            Traceback (most recent call last)",
      "Cell \u001b[0;32mIn[53], line 1\u001b[0m\n\u001b[0;32m----> 1\u001b[0m variantAssociation1 \u001b[38;5;241m=\u001b[39m \u001b[43mNode\u001b[49m\u001b[43m(\u001b[49m\u001b[38;5;124;43m\"\u001b[39;49m\u001b[38;5;124;43md13d9214d6613ab9b13342eb3b5b79a4e972e104\u001b[39;49m\u001b[38;5;124;43m\"\u001b[39;49m\u001b[43m,\u001b[49m\u001b[43m \u001b[49m\u001b[38;5;124;43m\"\u001b[39;49m\u001b[38;5;124;43mVariantAssociation\u001b[39;49m\u001b[38;5;124;43m\"\u001b[39;49m\u001b[43m)\u001b[49m\n",
      "Cell \u001b[0;32mIn[52], line 24\u001b[0m, in \u001b[0;36mNode.__init__\u001b[0;34m(self, uuid, db_label)\u001b[0m\n\u001b[1;32m     22\u001b[0m \u001b[38;5;28mprint\u001b[39m(\u001b[38;5;124m\"\u001b[39m\u001b[38;5;124mbx_data\u001b[39m\u001b[38;5;124m\"\u001b[39m)\n\u001b[1;32m     23\u001b[0m \u001b[38;5;28mprint\u001b[39m(bx_data)\n\u001b[0;32m---> 24\u001b[0m \u001b[38;5;28;01mif\u001b[39;00m \u001b[38;5;124m'\u001b[39m\u001b[38;5;124mrelationshipMetadata\u001b[39m\u001b[38;5;124m'\u001b[39m \u001b[38;5;129;01min\u001b[39;00m \u001b[43mbx_data\u001b[49m\u001b[38;5;241;43m.\u001b[39;49m\u001b[43mkeys\u001b[49m():\n\u001b[1;32m     25\u001b[0m     \u001b[38;5;28mself\u001b[39m\u001b[38;5;241m.\u001b[39m_relationships \u001b[38;5;241m=\u001b[39m bx_data[\u001b[38;5;124m'\u001b[39m\u001b[38;5;124mrelationshipMetadata\u001b[39m\u001b[38;5;124m'\u001b[39m]\n\u001b[1;32m     26\u001b[0m     \u001b[38;5;28mself\u001b[39m\u001b[38;5;241m.\u001b[39m__generate_relationship_methods()\n",
      "\u001b[0;31mAttributeError\u001b[0m: 'NoneType' object has no attribute 'keys'"
     ]
    }
   ],
   "source": [
    "variantAssociation1 = Node(\"d13d9214d6613ab9b13342eb3b5b79a4e972e104\", \"VariantAssociation\")"
   ]
  },
  {
   "cell_type": "code",
   "execution_count": 52,
   "id": "eebe9733-cade-4c1e-88b4-a07eb7e9870c",
   "metadata": {},
   "outputs": [],
   "source": [
    "import requests\n",
    "from urllib.parse import quote\n",
    "import json\n",
    "\n",
    "class Node:\n",
    "\n",
    "    def __init__(self, uuid, db_label):\n",
    "        self.uuid = uuid\n",
    "        self.db_label = db_label\n",
    "        bx_data = self._load()\n",
    "\n",
    "        self._exists = False\n",
    "\n",
    "        if bx_data is not None:\n",
    "            self._exists = True\n",
    "            self._data = bx_data\n",
    "        else:\n",
    "            self._data = {\n",
    "                'uuid': uuid,\n",
    "                'displayName': 'Node'\n",
    "            }\n",
    "        print(\"bx_data\")\n",
    "        print(bx_data)\n",
    "        if 'relationshipMetadata' in bx_data.keys():\n",
    "            self._relationships = bx_data['relationshipMetadata']\n",
    "            self.__generate_relationship_methods()\n",
    "        self.concept = Concept.get(db_label)\n",
    "\n",
    "\n",
    "    def __create_relationship_method(self, name, relationship):\n",
    "        return Relationship(name, relationship, self.uuid)\n",
    "\n",
    "    def __generate_relationship_methods(self):\n",
    "        for relationship in self._relationships:\n",
    "            rel_name = relationship['relationship']['label'].replace(\" \", \"_\")\n",
    "            setattr(self, rel_name, self.__create_relationship_method(rel_name, relationship))\n",
    "\n",
    "    def __getattr__(self, name):\n",
    "        attribute = super().__getattribute__(name)\n",
    "        if callable(attribute):\n",
    "            return attribute\n",
    "        else:\n",
    "            return attribute.metadata\n",
    "\n",
    "    @property\n",
    "    def displayName(self):\n",
    "        return self._data.get('displayName')\n",
    "\n",
    "    @displayName.setter\n",
    "    def displayName(self, v):\n",
    "        self._data['displayName'] = v\n",
    "\n",
    "    @property\n",
    "    def properties(self):\n",
    "        return self._data['properties']\n",
    "\n",
    "    @properties.setter\n",
    "    def properties(self, adict):\n",
    "        print(\"setting properties\")\n",
    "        print(adict)\n",
    "        self._data['properties'].update(adict)\n",
    "\n",
    "    def save(self):\n",
    "        if self._exists:\n",
    "            self._update()\n",
    "        else:\n",
    "            self._create()\n",
    "            self._exists = True\n",
    "\n",
    "        print(json.dumps(self._data, indent=2))\n",
    "\n",
    "    def _update(self):\n",
    "        res = requests.put(\n",
    "            f\"https://pr-1645-rest.frzb.biobox.to/bioref/object/{quote(self.uuid)}\",\n",
    "            json={\n",
    "                'uuid': self.uuid,\n",
    "                'displayName': self.displayName\n",
    "            },\n",
    "            headers={\n",
    "                'x-biobox-orgid': \"bx-d52b76a6-2e9b-4d53-894e-58e818cff0f2\",\n",
    "                'Authorization': f'Bearer \"eyJhbGciOiJSUzI1NiIsInR5cCI6IkpXVCIsImtpZCI6IjJqQ2Rqd2dIQVlVLU9qVW1qdDMyUSJ9.eyJodHRwczovL2Jpb2JveC5pbyI6eyJfaWQiOiIzMzA5ZjFhYWE0YTdiMjIwODIyZTEyNGY0NDMyM2E1ZiIsImNsaWVudElEIjoiM3c2eEIxQnlaQjNPRkFUNmxnVkdwa3VHNlBhN0hCNUwiLCJjcmVhdGVkX2F0IjoiMjAyMC0xMC0wOFQxNDoyMTo0Ny41ODRaIiwiZW1haWwiOiJoYW16YUBiaW9ib3guaW8iLCJlbWFpbF92ZXJpZmllZCI6dHJ1ZSwiaWRlbnRpdGllcyI6W3siY29ubmVjdGlvbiI6IlVzZXJuYW1lLVBhc3N3b3JkLUF1dGhlbnRpY2F0aW9uIiwicHJvdmlkZXIiOiJhdXRoMCIsInVzZXJfaWQiOiI1ZjdmMjA3YjkyOWEwZTAwNzVhNzNjMjkiLCJpc1NvY2lhbCI6ZmFsc2V9XSwibmFtZSI6ImhhbXphQGJpb2JveC5pbyIsIm5pY2tuYW1lIjoiaGFtemEiLCJwaWN0dXJlIjoiaHR0cHM6Ly9zLmdyYXZhdGFyLmNvbS9hdmF0YXIvN2NmNGNhZDY1NjE4NDUwNTEzMDFlZDRjODk4Mjg4YTU_cz00ODAmcj1wZyZkPWh0dHBzJTNBJTJGJTJGY2RuLmF1dGgwLmNvbSUyRmF2YXRhcnMlMkZoYS5wbmciLCJ1cGRhdGVkX2F0IjoiMjAyNC0wNi0wM1QxMzoxMDowNS4xMTFaIiwidXNlcl9pZCI6ImF1dGgwfDVmN2YyMDdiOTI5YTBlMDA3NWE3M2MyOSIsImxhc3RfcGFzc3dvcmRfcmVzZXQiOiIyMDIwLTExLTEyVDE2OjE5OjQzLjcyOVoiLCJnbG9iYWxfY2xpZW50X2lkIjoiY241ajRvQnNzVktIdHNXUDBsY3VWdmwzVGNnSWpaWlIiLCJwZXJzaXN0ZW50Ijp7fX0sIm5pY2tuYW1lIjoiaGFtemEiLCJuYW1lIjoiaGFtemFAYmlvYm94LmlvIiwicGljdHVyZSI6Imh0dHBzOi8vcy5ncmF2YXRhci5jb20vYXZhdGFyLzdjZjRjYWQ2NTYxODQ1MDUxMzAxZWQ0Yzg5ODI4OGE1P3M9NDgwJnI9cGcmZD1odHRwcyUzQSUyRiUyRmNkbi5hdXRoMC5jb20lMkZhdmF0YXJzJTJGaGEucG5nIiwidXBkYXRlZF9hdCI6IjIwMjQtMDYtMDNUMTM6MTA6MDUuMTExWiIsImVtYWlsIjoiaGFtemFAYmlvYm94LmlvIiwiZW1haWxfdmVyaWZpZWQiOnRydWUsImlzcyI6Imh0dHBzOi8vYmlvYm94LWRldi5hdXRoMC5jb20vIiwiYXVkIjoiM3c2eEIxQnlaQjNPRkFUNmxnVkdwa3VHNlBhN0hCNUwiLCJpYXQiOjE3MTc3OTM5NTEsImV4cCI6MTg3NDk2MTk1MSwic3ViIjoiYXV0aDB8NWY3ZjIwN2I5MjlhMGUwMDc1YTczYzI5Iiwic2lkIjoieVJNYm9LWUJ1SFdoQnVSSnJ5REF0aE4wRGdCRlBNcGgifQ.nhn4dOZaqQs3cNqLRbWYUMwKmrqxKbTsbb9Abgy6cBt2pMgyJWCcP6j84iXAt_S3T7JrXhVTTtQcEXIlRu_hpxfWqZdXIT8ZNiMl217xHIvqal0Rm5BhUcRLX_1kFWCGwsuKr-1FqMJP50MF5AFjakwCcuXNegdNxYSksoA-4LlhFPF5o-A3M6SL-tdECkBReHtBDQvHo8gb1x4gSzT6oMc2Ev8L-C4VhUHGNGExhEweVHpyRoHLv6tlBtmS7kPt8b4CKXqJPpayTqgSzNsKC6mp3IovDtXmqV7w3mp1b3B9SaSnoG4eNdIJHZo2vVofiApLN3zFCShSs582OXF_LA\"'\n",
    "            }\n",
    "        )\n",
    "        res.raise_for_status()\n",
    "        return res.json()\n",
    "\n",
    "    def delete(self):\n",
    "        pass\n",
    "\n",
    "    def _load(self):\n",
    "        res = requests.get(\n",
    "            f\"https://pr-1645-rest.frzb.biobox.to/bioref/object/{quote(self.uuid)}\",\n",
    "            headers={\n",
    "                'x-biobox-orgid': \"bx-d52b76a6-2e9b-4d53-894e-58e818cff0f2\",\n",
    "                'Authorization': f'Bearer \"eyJhbGciOiJSUzI1NiIsInR5cCI6IkpXVCIsImtpZCI6IjJqQ2Rqd2dIQVlVLU9qVW1qdDMyUSJ9.eyJodHRwczovL2Jpb2JveC5pbyI6eyJfaWQiOiIzMzA5ZjFhYWE0YTdiMjIwODIyZTEyNGY0NDMyM2E1ZiIsImNsaWVudElEIjoiM3c2eEIxQnlaQjNPRkFUNmxnVkdwa3VHNlBhN0hCNUwiLCJjcmVhdGVkX2F0IjoiMjAyMC0xMC0wOFQxNDoyMTo0Ny41ODRaIiwiZW1haWwiOiJoYW16YUBiaW9ib3guaW8iLCJlbWFpbF92ZXJpZmllZCI6dHJ1ZSwiaWRlbnRpdGllcyI6W3siY29ubmVjdGlvbiI6IlVzZXJuYW1lLVBhc3N3b3JkLUF1dGhlbnRpY2F0aW9uIiwicHJvdmlkZXIiOiJhdXRoMCIsInVzZXJfaWQiOiI1ZjdmMjA3YjkyOWEwZTAwNzVhNzNjMjkiLCJpc1NvY2lhbCI6ZmFsc2V9XSwibmFtZSI6ImhhbXphQGJpb2JveC5pbyIsIm5pY2tuYW1lIjoiaGFtemEiLCJwaWN0dXJlIjoiaHR0cHM6Ly9zLmdyYXZhdGFyLmNvbS9hdmF0YXIvN2NmNGNhZDY1NjE4NDUwNTEzMDFlZDRjODk4Mjg4YTU_cz00ODAmcj1wZyZkPWh0dHBzJTNBJTJGJTJGY2RuLmF1dGgwLmNvbSUyRmF2YXRhcnMlMkZoYS5wbmciLCJ1cGRhdGVkX2F0IjoiMjAyNC0wNi0wM1QxMzoxMDowNS4xMTFaIiwidXNlcl9pZCI6ImF1dGgwfDVmN2YyMDdiOTI5YTBlMDA3NWE3M2MyOSIsImxhc3RfcGFzc3dvcmRfcmVzZXQiOiIyMDIwLTExLTEyVDE2OjE5OjQzLjcyOVoiLCJnbG9iYWxfY2xpZW50X2lkIjoiY241ajRvQnNzVktIdHNXUDBsY3VWdmwzVGNnSWpaWlIiLCJwZXJzaXN0ZW50Ijp7fX0sIm5pY2tuYW1lIjoiaGFtemEiLCJuYW1lIjoiaGFtemFAYmlvYm94LmlvIiwicGljdHVyZSI6Imh0dHBzOi8vcy5ncmF2YXRhci5jb20vYXZhdGFyLzdjZjRjYWQ2NTYxODQ1MDUxMzAxZWQ0Yzg5ODI4OGE1P3M9NDgwJnI9cGcmZD1odHRwcyUzQSUyRiUyRmNkbi5hdXRoMC5jb20lMkZhdmF0YXJzJTJGaGEucG5nIiwidXBkYXRlZF9hdCI6IjIwMjQtMDYtMDNUMTM6MTA6MDUuMTExWiIsImVtYWlsIjoiaGFtemFAYmlvYm94LmlvIiwiZW1haWxfdmVyaWZpZWQiOnRydWUsImlzcyI6Imh0dHBzOi8vYmlvYm94LWRldi5hdXRoMC5jb20vIiwiYXVkIjoiM3c2eEIxQnlaQjNPRkFUNmxnVkdwa3VHNlBhN0hCNUwiLCJpYXQiOjE3MTc3OTM5NTEsImV4cCI6MTg3NDk2MTk1MSwic3ViIjoiYXV0aDB8NWY3ZjIwN2I5MjlhMGUwMDc1YTczYzI5Iiwic2lkIjoieVJNYm9LWUJ1SFdoQnVSSnJ5REF0aE4wRGdCRlBNcGgifQ.nhn4dOZaqQs3cNqLRbWYUMwKmrqxKbTsbb9Abgy6cBt2pMgyJWCcP6j84iXAt_S3T7JrXhVTTtQcEXIlRu_hpxfWqZdXIT8ZNiMl217xHIvqal0Rm5BhUcRLX_1kFWCGwsuKr-1FqMJP50MF5AFjakwCcuXNegdNxYSksoA-4LlhFPF5o-A3M6SL-tdECkBReHtBDQvHo8gb1x4gSzT6oMc2Ev8L-C4VhUHGNGExhEweVHpyRoHLv6tlBtmS7kPt8b4CKXqJPpayTqgSzNsKC6mp3IovDtXmqV7w3mp1b3B9SaSnoG4eNdIJHZo2vVofiApLN3zFCShSs582OXF_LA\"'\n",
    "            }\n",
    "        )\n",
    "        if res.status_code == 200:\n",
    "            return res.json()\n",
    "\n",
    "    def _create(self):\n",
    "        res = requests.post(\n",
    "            f\"https://pr-1645-rest.frzb.biobox.to/bioref/object\",\n",
    "            json={\n",
    "                'conceptUri': self.concept.uri,\n",
    "                'payload': [\n",
    "                    {\n",
    "                        'uuid': self.uuid,\n",
    "                        'displayName': self.displayName,\n",
    "                        'properties': [\n",
    "                            {\n",
    "                                'dataPropertyUri': 'uuid',\n",
    "                                'value': self.uuid\n",
    "                            },\n",
    "                            {\n",
    "                                'dataPropertyUri': 'displayName',\n",
    "                                'value': self.displayName\n",
    "                            }\n",
    "                        ]\n",
    "                    }\n",
    "                ]\n",
    "            },\n",
    "            headers={\n",
    "                'x-biobox-orgid': \"bx-d52b76a6-2e9b-4d53-894e-58e818cff0f2\",\n",
    "                'Authorization': f'Bearer \"eyJhbGciOiJSUzI1NiIsInR5cCI6IkpXVCIsImtpZCI6IjJqQ2Rqd2dIQVlVLU9qVW1qdDMyUSJ9.eyJodHRwczovL2Jpb2JveC5pbyI6eyJfaWQiOiIzMzA5ZjFhYWE0YTdiMjIwODIyZTEyNGY0NDMyM2E1ZiIsImNsaWVudElEIjoiM3c2eEIxQnlaQjNPRkFUNmxnVkdwa3VHNlBhN0hCNUwiLCJjcmVhdGVkX2F0IjoiMjAyMC0xMC0wOFQxNDoyMTo0Ny41ODRaIiwiZW1haWwiOiJoYW16YUBiaW9ib3guaW8iLCJlbWFpbF92ZXJpZmllZCI6dHJ1ZSwiaWRlbnRpdGllcyI6W3siY29ubmVjdGlvbiI6IlVzZXJuYW1lLVBhc3N3b3JkLUF1dGhlbnRpY2F0aW9uIiwicHJvdmlkZXIiOiJhdXRoMCIsInVzZXJfaWQiOiI1ZjdmMjA3YjkyOWEwZTAwNzVhNzNjMjkiLCJpc1NvY2lhbCI6ZmFsc2V9XSwibmFtZSI6ImhhbXphQGJpb2JveC5pbyIsIm5pY2tuYW1lIjoiaGFtemEiLCJwaWN0dXJlIjoiaHR0cHM6Ly9zLmdyYXZhdGFyLmNvbS9hdmF0YXIvN2NmNGNhZDY1NjE4NDUwNTEzMDFlZDRjODk4Mjg4YTU_cz00ODAmcj1wZyZkPWh0dHBzJTNBJTJGJTJGY2RuLmF1dGgwLmNvbSUyRmF2YXRhcnMlMkZoYS5wbmciLCJ1cGRhdGVkX2F0IjoiMjAyNC0wNi0wM1QxMzoxMDowNS4xMTFaIiwidXNlcl9pZCI6ImF1dGgwfDVmN2YyMDdiOTI5YTBlMDA3NWE3M2MyOSIsImxhc3RfcGFzc3dvcmRfcmVzZXQiOiIyMDIwLTExLTEyVDE2OjE5OjQzLjcyOVoiLCJnbG9iYWxfY2xpZW50X2lkIjoiY241ajRvQnNzVktIdHNXUDBsY3VWdmwzVGNnSWpaWlIiLCJwZXJzaXN0ZW50Ijp7fX0sIm5pY2tuYW1lIjoiaGFtemEiLCJuYW1lIjoiaGFtemFAYmlvYm94LmlvIiwicGljdHVyZSI6Imh0dHBzOi8vcy5ncmF2YXRhci5jb20vYXZhdGFyLzdjZjRjYWQ2NTYxODQ1MDUxMzAxZWQ0Yzg5ODI4OGE1P3M9NDgwJnI9cGcmZD1odHRwcyUzQSUyRiUyRmNkbi5hdXRoMC5jb20lMkZhdmF0YXJzJTJGaGEucG5nIiwidXBkYXRlZF9hdCI6IjIwMjQtMDYtMDNUMTM6MTA6MDUuMTExWiIsImVtYWlsIjoiaGFtemFAYmlvYm94LmlvIiwiZW1haWxfdmVyaWZpZWQiOnRydWUsImlzcyI6Imh0dHBzOi8vYmlvYm94LWRldi5hdXRoMC5jb20vIiwiYXVkIjoiM3c2eEIxQnlaQjNPRkFUNmxnVkdwa3VHNlBhN0hCNUwiLCJpYXQiOjE3MTc3OTM5NTEsImV4cCI6MTg3NDk2MTk1MSwic3ViIjoiYXV0aDB8NWY3ZjIwN2I5MjlhMGUwMDc1YTczYzI5Iiwic2lkIjoieVJNYm9LWUJ1SFdoQnVSSnJ5REF0aE4wRGdCRlBNcGgifQ.nhn4dOZaqQs3cNqLRbWYUMwKmrqxKbTsbb9Abgy6cBt2pMgyJWCcP6j84iXAt_S3T7JrXhVTTtQcEXIlRu_hpxfWqZdXIT8ZNiMl217xHIvqal0Rm5BhUcRLX_1kFWCGwsuKr-1FqMJP50MF5AFjakwCcuXNegdNxYSksoA-4LlhFPF5o-A3M6SL-tdECkBReHtBDQvHo8gb1x4gSzT6oMc2Ev8L-C4VhUHGNGExhEweVHpyRoHLv6tlBtmS7kPt8b4CKXqJPpayTqgSzNsKC6mp3IovDtXmqV7w3mp1b3B9SaSnoG4eNdIJHZo2vVofiApLN3zFCShSs582OXF_LA\"'\n",
    "            }\n",
    "        )\n",
    "        res.raise_for_status()\n",
    "        return res.json()\n",
    "\n",
    "    def attach(self, rel, target):\n",
    "        res = requests.post(\n",
    "            f\"https://pr-1645-rest.frzb.biobox.to/bioref/attach/object\",\n",
    "            json={\n",
    "                'from': {\n",
    "                    'uuid': self.uuid\n",
    "                },\n",
    "                'to': {\n",
    "                    'uuid': target\n",
    "                },\n",
    "                'label': rel,\n",
    "                'properties': []\n",
    "            },\n",
    "            headers={\n",
    "                'x-biobox-orgid': \"bx-d52b76a6-2e9b-4d53-894e-58e818cff0f2\",\n",
    "                'Authorization': f'Bearer \"eyJhbGciOiJSUzI1NiIsInR5cCI6IkpXVCIsImtpZCI6IjJqQ2Rqd2dIQVlVLU9qVW1qdDMyUSJ9.eyJodHRwczovL2Jpb2JveC5pbyI6eyJfaWQiOiIzMzA5ZjFhYWE0YTdiMjIwODIyZTEyNGY0NDMyM2E1ZiIsImNsaWVudElEIjoiM3c2eEIxQnlaQjNPRkFUNmxnVkdwa3VHNlBhN0hCNUwiLCJjcmVhdGVkX2F0IjoiMjAyMC0xMC0wOFQxNDoyMTo0Ny41ODRaIiwiZW1haWwiOiJoYW16YUBiaW9ib3guaW8iLCJlbWFpbF92ZXJpZmllZCI6dHJ1ZSwiaWRlbnRpdGllcyI6W3siY29ubmVjdGlvbiI6IlVzZXJuYW1lLVBhc3N3b3JkLUF1dGhlbnRpY2F0aW9uIiwicHJvdmlkZXIiOiJhdXRoMCIsInVzZXJfaWQiOiI1ZjdmMjA3YjkyOWEwZTAwNzVhNzNjMjkiLCJpc1NvY2lhbCI6ZmFsc2V9XSwibmFtZSI6ImhhbXphQGJpb2JveC5pbyIsIm5pY2tuYW1lIjoiaGFtemEiLCJwaWN0dXJlIjoiaHR0cHM6Ly9zLmdyYXZhdGFyLmNvbS9hdmF0YXIvN2NmNGNhZDY1NjE4NDUwNTEzMDFlZDRjODk4Mjg4YTU_cz00ODAmcj1wZyZkPWh0dHBzJTNBJTJGJTJGY2RuLmF1dGgwLmNvbSUyRmF2YXRhcnMlMkZoYS5wbmciLCJ1cGRhdGVkX2F0IjoiMjAyNC0wNi0wM1QxMzoxMDowNS4xMTFaIiwidXNlcl9pZCI6ImF1dGgwfDVmN2YyMDdiOTI5YTBlMDA3NWE3M2MyOSIsImxhc3RfcGFzc3dvcmRfcmVzZXQiOiIyMDIwLTExLTEyVDE2OjE5OjQzLjcyOVoiLCJnbG9iYWxfY2xpZW50X2lkIjoiY241ajRvQnNzVktIdHNXUDBsY3VWdmwzVGNnSWpaWlIiLCJwZXJzaXN0ZW50Ijp7fX0sIm5pY2tuYW1lIjoiaGFtemEiLCJuYW1lIjoiaGFtemFAYmlvYm94LmlvIiwicGljdHVyZSI6Imh0dHBzOi8vcy5ncmF2YXRhci5jb20vYXZhdGFyLzdjZjRjYWQ2NTYxODQ1MDUxMzAxZWQ0Yzg5ODI4OGE1P3M9NDgwJnI9cGcmZD1odHRwcyUzQSUyRiUyRmNkbi5hdXRoMC5jb20lMkZhdmF0YXJzJTJGaGEucG5nIiwidXBkYXRlZF9hdCI6IjIwMjQtMDYtMDNUMTM6MTA6MDUuMTExWiIsImVtYWlsIjoiaGFtemFAYmlvYm94LmlvIiwiZW1haWxfdmVyaWZpZWQiOnRydWUsImlzcyI6Imh0dHBzOi8vYmlvYm94LWRldi5hdXRoMC5jb20vIiwiYXVkIjoiM3c2eEIxQnlaQjNPRkFUNmxnVkdwa3VHNlBhN0hCNUwiLCJpYXQiOjE3MTc3OTM5NTEsImV4cCI6MTg3NDk2MTk1MSwic3ViIjoiYXV0aDB8NWY3ZjIwN2I5MjlhMGUwMDc1YTczYzI5Iiwic2lkIjoieVJNYm9LWUJ1SFdoQnVSSnJ5REF0aE4wRGdCRlBNcGgifQ.nhn4dOZaqQs3cNqLRbWYUMwKmrqxKbTsbb9Abgy6cBt2pMgyJWCcP6j84iXAt_S3T7JrXhVTTtQcEXIlRu_hpxfWqZdXIT8ZNiMl217xHIvqal0Rm5BhUcRLX_1kFWCGwsuKr-1FqMJP50MF5AFjakwCcuXNegdNxYSksoA-4LlhFPF5o-A3M6SL-tdECkBReHtBDQvHo8gb1x4gSzT6oMc2Ev8L-C4VhUHGNGExhEweVHpyRoHLv6tlBtmS7kPt8b4CKXqJPpayTqgSzNsKC6mp3IovDtXmqV7w3mp1b3B9SaSnoG4eNdIJHZo2vVofiApLN3zFCShSs582OXF_LA\"'\n",
    "            }\n",
    "        )\n",
    "        if res.status_code != 200:\n",
    "            print(res.text)\n",
    "        res.raise_for_status()\n",
    "        return res.json()"
   ]
  },
  {
   "cell_type": "code",
   "execution_count": null,
   "id": "f25010c8-1f21-4980-adc1-9ebfe8597269",
   "metadata": {},
   "outputs": [],
   "source": []
  }
 ],
 "metadata": {
  "kernelspec": {
   "display_name": "Python 3 (ipykernel)",
   "language": "python",
   "name": "python3"
  },
  "language_info": {
   "codemirror_mode": {
    "name": "ipython",
    "version": 3
   },
   "file_extension": ".py",
   "mimetype": "text/x-python",
   "name": "python",
   "nbconvert_exporter": "python",
   "pygments_lexer": "ipython3",
   "version": "3.9.6"
  }
 },
 "nbformat": 4,
 "nbformat_minor": 5
}
